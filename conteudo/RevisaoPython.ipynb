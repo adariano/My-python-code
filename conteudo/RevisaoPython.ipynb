{
 "cells": [
  {
   "cell_type": "markdown",
   "id": "49b325c0fea91611",
   "metadata": {
    "collapsed": false
   },
   "source": [
    "# REVISÃO DE PYTHON\n",
    "-----------------\n",
    "\n",
    "Daniel Porto\n",
    "\n",
    "Baseado em: https://www.freecodecamp.org/news/the-python-guide-for-beginners/\n",
    "\n",
    "-----------------\n",
    "Este é um arquivo Jupyter Notebook. Esse é um formato fácil e organizado para demonstrar de forma algum código. Assim, você pode ler o tutorial e executar os códigos de exemplo no próprio arquivo.\n",
    "\n",
    "Para isso, você precisa instalar o Jupyter na sua máquina. O site oficial do projeto é: https://jupyter.org/\n",
    "\n",
    "A IDE pycharm da Jetbrains tem um plugin do Jupyter. O plugin instala e executa o Jupyter de dentro da IDE.\n",
    "\n",
    "-----------------\n",
    "\n",
    "Python é uma linguagem de programação interpretada, orientada a objetos, de alto nível e com semântica dinâmica.\n",
    "A simplicidade do Python reduz a manutenção de um programa. Python suporta módulos e pacotes, que encoraja a programação modularizada e reuso de códigos.\n",
    "\n",
    "É uma das linguagens que mais tem crescido devido sua compatibilidade (roda na maioria dos sistemas operacionais) e capacidade de auxiliar outras linguagens. Programas como Dropbox, Reddit e Instagram são escritos em Python.\n",
    "\n",
    "Python também é a linguagem mais popular para análise de dados e conquistou a comunidade científica.\n",
    "\n",
    "Python foi criada em 1990 por Guido Van Rossum no Centro de Matemática Stichting (CWI, veja http://www.cwi.nl) na Holanda como uma sucessora da linguagem ABC.\n",
    "\n",
    "A linguagem ABC foi desenhada para uso de não programadores, mas logo de início mostrou certas limitações e restrições.\n",
    "\n",
    "A maior reclamação dos primeiros alunos não programadores dessa linguagem era a presença de regras arbitrárias que as linguagens de programação haviam estabelecido tradicionalmente - muita coisa de baixo nível ainda era feita e não agradou o público.\n",
    "\n",
    "Guido então se lançou na tarefa de criar uma linguagem de script simples que possuísse algumas das melhores propriedades da ABC.\n",
    "\n",
    "Listas Python, dicionários, declarações básicas e uso obrigatório de indentação diferenciam Python da linguagem ABC.\n",
    "\n",
    "Guido pretendia que Python fosse uma segunda linguagem para programadores C ou C++ e não uma linguagem principal para programadores - o que mais tarde se tornou para os usuários de Python.\n",
    "\n",
    "#### Características:\n",
    "\n",
    "- linguagem de programação de alto nível\n",
    "- interpretada\n",
    "- modular\n",
    "- multiplataforma\n",
    "- orientada a objetos\n",
    "\n",
    "#### Para que é usada:\n",
    "\n",
    "- Scripting e automação\n",
    "- Desenvolvimento web\n",
    "- Enquadramento de testes\n",
    "- Big Data\n",
    "- Ciência de dados\n",
    "- Computação gráfica\n",
    "- Inteligência artificial\n",
    "\n",
    "-----------------------------\n",
    "\n",
    "## A sintaxe\n",
    "\n",
    "Python é conhecida por sua sintaxe limpa.\n",
    "A linguagem evita o uso de caracteres desnecessários para indicar alguma especificidade.\n",
    "\n",
    "---\n",
    "\n",
    "## Ponto-e-vírgula\n",
    "\n",
    "Python não usa ponto-e-vírgula para terminar linhas.\n",
    "Uma nova linha é suficiente para dizer ao interpretador que um novo comando está começando.\n",
    "\n",
    "O método print() é usado para exibir algo no console.\n",
    "Neste exemplo, temos dois comandos que exibirão as mensagens dentro de aspas simples."
   ]
  },
  {
   "cell_type": "code",
   "execution_count": 2,
   "id": "c5967416e94ebad4",
   "metadata": {
    "ExecuteTime": {
     "end_time": "2024-03-20T19:11:53.848902Z",
     "start_time": "2024-03-20T19:11:53.845133Z"
    },
    "collapsed": false
   },
   "outputs": [
    {
     "name": "stdout",
     "output_type": "stream",
     "text": [
      "Primeiro comando\n",
      "Segundo comando\n"
     ]
    }
   ],
   "source": [
    "print('Primeiro comando')\n",
    "print('Segundo comando')"
   ]
  },
  {
   "cell_type": "markdown",
   "id": "d40ebe7e15507ccf",
   "metadata": {
    "collapsed": false
   },
   "source": [
    "Mas o seguinte está \"errado\" devido aos ponto-e-vírgula no final:"
   ]
  },
  {
   "cell_type": "code",
   "execution_count": 3,
   "id": "c587d88accd071cd",
   "metadata": {
    "ExecuteTime": {
     "end_time": "2024-03-20T19:12:14.633067Z",
     "start_time": "2024-03-20T19:12:14.630895Z"
    },
    "collapsed": false
   },
   "outputs": [
    {
     "name": "stdout",
     "output_type": "stream",
     "text": [
      "Primeiro comando\n",
      "Segundo comando\n"
     ]
    }
   ],
   "source": [
    "print('Primeiro comando');\n",
    "print('Segundo comando');"
   ]
  },
  {
   "cell_type": "markdown",
   "id": "fb9953c53d39c32b",
   "metadata": {
    "collapsed": false
   },
   "source": [
    "---\n",
    "## Indentação\n",
    "\n",
    "Muitas linguagens utilizam chaves para definir o escopo.\n",
    "\n",
    "O interpretador Python usa apenas indentação para definir quando um escopo termina e outro começa. Isto significa que você tem que estar ciente dos espaços brancos no início de cada linha Eles têm significado e podem quebrar seu código se mal colocados.\n",
    "\n",
    "Esta definição de uma função funciona:"
   ]
  },
  {
   "cell_type": "code",
   "execution_count": 3,
   "id": "7d9af4922bac0021",
   "metadata": {
    "collapsed": false
   },
   "outputs": [],
   "source": [
    "def my_function():\n",
    "    print('Primeiro comando')"
   ]
  },
  {
   "cell_type": "markdown",
   "id": "37b46d25cff919c4",
   "metadata": {
    "collapsed": false
   },
   "source": [
    "Essa aqui não funciona porque falta a recuo da segunda linha. Vai lançar um erro:"
   ]
  },
  {
   "cell_type": "code",
   "execution_count": 4,
   "id": "efe5e99cf195b1c8",
   "metadata": {
    "collapsed": false
   },
   "outputs": [
    {
     "ename": "IndentationError",
     "evalue": "expected an indented block after function definition on line 1 (4106053854.py, line 2)",
     "output_type": "error",
     "traceback": [
      "\u001b[0;36m  Cell \u001b[0;32mIn[4], line 2\u001b[0;36m\u001b[0m\n\u001b[0;31m    print('Primeiro comando')\u001b[0m\n\u001b[0m    ^\u001b[0m\n\u001b[0;31mIndentationError\u001b[0m\u001b[0;31m:\u001b[0m expected an indented block after function definition on line 1\n"
     ]
    }
   ],
   "source": [
    "def my_function():\n",
    "print('Primeiro comando')"
   ]
  },
  {
   "cell_type": "markdown",
   "id": "df2dc74e0a04b575",
   "metadata": {
    "collapsed": false
   },
   "source": [
    "---\n",
    "## Variáveis e Case sensitivity\n",
    "\n",
    "Python é sensível a maiúsculas e minúsculas.\n",
    "Portanto, as variáveis nome e Nome não são a mesma coisa e armazenam valores diferentes."
   ]
  },
  {
   "cell_type": "code",
   "execution_count": 6,
   "id": "9b2bd70c011a5cc9",
   "metadata": {
    "ExecuteTime": {
     "end_time": "2024-03-20T19:17:32.015041Z",
     "start_time": "2024-03-20T19:17:32.013233Z"
    },
    "collapsed": false
   },
   "outputs": [],
   "source": [
    "nome = 'Daniel'\n",
    "Nome = 'Porto'"
   ]
  },
  {
   "cell_type": "markdown",
   "id": "88c5378746a3f3eb",
   "metadata": {
    "collapsed": false
   },
   "source": [
    "As variáveis são facilmente criadas apenas atribuindo valores a elas usando o símbolo =\n",
    "Isto significa que nome armazena 'Daniel' e Nome armazena 'Porto'"
   ]
  },
  {
   "cell_type": "code",
   "execution_count": 7,
   "id": "e8c38402b73a7f68",
   "metadata": {
    "ExecuteTime": {
     "end_time": "2024-03-20T19:17:40.251744Z",
     "start_time": "2024-03-20T19:17:40.249671Z"
    },
    "collapsed": false
   },
   "outputs": [
    {
     "name": "stdout",
     "output_type": "stream",
     "text": [
      "1:Daniel\n",
      "2:Porto\n"
     ]
    }
   ],
   "source": [
    "print('1:' + nome)\n",
    "print('2:' + Nome)"
   ]
  },
  {
   "cell_type": "markdown",
   "id": "adfe043008d0ae3c",
   "metadata": {
    "collapsed": false
   },
   "source": [
    "---\n",
    "## Comentários\n",
    "\n",
    "Finalmente, para comentar algo no código, pode-se o caracter hash #\n",
    "A parte comentada não influencia o fluxo do programa"
   ]
  },
  {
   "cell_type": "code",
   "execution_count": 8,
   "id": "5f1f409df94d12ce",
   "metadata": {
    "collapsed": false
   },
   "outputs": [],
   "source": [
    "# esta função imprime algo\n",
    "def my_function():\n",
    "    print('Primeiro comando')"
   ]
  },
  {
   "cell_type": "markdown",
   "id": "f9db7bd08c393375",
   "metadata": {
    "collapsed": false
   },
   "source": [
    "Quando você trabalha sozinho, talvez os comentários não sejam algo que você deva escrever. Afinal, no momento, você sabe os porquês de cada linha de código.\n",
    "Mas se novas pessoas entrarem no seu projeto após um ano e o projeto tiver 3 módulos, cada um com 10.000 linhas de código?\n",
    "\n",
    "Pense em pessoas que não sabem nada sobre seu programa e que, de repente, estão tendo que mantê-lo, consertá-lo ou adicionar novas funcionalidades.\n",
    "\n",
    "Lembre-se, não há uma solução única para um determinado problema. Sua maneira de resolver as coisas é sua e somente sua.\n",
    "\n",
    "Se você pedir a 10 pessoas para resolver o mesmo problema, elas encontrarão 10 soluções diferentes.\n",
    "\n",
    "Se você quiser que outros entendam totalmente seu raciocínio, um bom projeto de código é obrigatório, mas os comentários são parte integrante de qualquer base de código.\n",
    "\n",
    "\n",
    "#### Como escrever comentários em Python\n",
    "\n",
    "A sintaxe dos comentários em Python é simples: basta usar o símbolo hash na frente do texto que você quer que seja um comentário."
   ]
  },
  {
   "cell_type": "code",
   "execution_count": 9,
   "id": "43fa62d477f9e567",
   "metadata": {
    "collapsed": false
   },
   "outputs": [],
   "source": [
    "# Este é um comentário e não influenciará o fluxo do meu programa"
   ]
  },
  {
   "cell_type": "markdown",
   "id": "f24855692a800a12",
   "metadata": {
    "collapsed": false
   },
   "source": [
    "Você pode usar um comentário para explicar o que algum pedaço de código faz."
   ]
  },
  {
   "cell_type": "code",
   "execution_count": 10,
   "id": "7c723586021b33a8",
   "metadata": {
    "collapsed": false
   },
   "outputs": [
    {
     "ename": "NameError",
     "evalue": "name 'b' is not defined",
     "output_type": "error",
     "traceback": [
      "\u001b[0;31m---------------------------------------------------------------------------\u001b[0m",
      "\u001b[0;31mNameError\u001b[0m                                 Traceback (most recent call last)",
      "\u001b[1;32m/home/adriano/Documents/code/vscode_python/RevisaoPython.ipynb Cell 18\u001b[0m line \u001b[0;36m2\n\u001b[1;32m      <a href='vscode-notebook-cell:/home/adriano/Documents/code/vscode_python/RevisaoPython.ipynb#X23sZmlsZQ%3D%3D?line=0'>1</a>\u001b[0m \u001b[39m# calcula a soma de quaisquer dois números dados\u001b[39;00m\n\u001b[0;32m----> <a href='vscode-notebook-cell:/home/adriano/Documents/code/vscode_python/RevisaoPython.ipynb#X23sZmlsZQ%3D%3D?line=1'>2</a>\u001b[0m a \u001b[39m=\u001b[39m b \u001b[39m+\u001b[39m c\n",
      "\u001b[0;31mNameError\u001b[0m: name 'b' is not defined"
     ]
    }
   ],
   "source": [
    "# calcula a soma de quaisquer dois números dados\n",
    "a = b + c"
   ]
  },
  {
   "cell_type": "markdown",
   "id": "6aa6ed96901a976c",
   "metadata": {
    "collapsed": false
   },
   "source": [
    "Existem outras formas de se comentar um código, podendo fazê-lo na frente da linha digitada,\n",
    "ou usando três aspas simples (''') ou três aspas duplas (“””) para comentários que ultrapassam mais de uma linha.\n",
    "Veja a seguir:"
   ]
  },
  {
   "cell_type": "code",
   "execution_count": null,
   "id": "c54f4a742ddbfbd9",
   "metadata": {
    "collapsed": false
   },
   "outputs": [],
   "source": [
    "soma = 5+5          # Criando uma variável de soma\n",
    "\n",
    "'''\n",
    "A partir do momento que coloquei três aspas simples, tudo o que eu escrever aqui dentro será considerado comentário.\n",
    "É muito útil quando queremos explicar alguma coisa, ou deixar instruções dentro ou antes do código.\n",
    "'''\n",
    "\n",
    "\"\"\"\n",
    "O mesmo ocorre com as aspas duplas.\n",
    "Você pode escolher o que você quer usar.\n",
    "A comunidade Python recomenda usar as aspas simples, mas fica a seu critério escolher.\n",
    "\"\"\""
   ]
  },
  {
   "cell_type": "markdown",
   "id": "a83083a37f136a35",
   "metadata": {
    "collapsed": false
   },
   "source": [
    "---\n",
    "## Variáveis\n",
    "\n",
    "Em qualquer programa, você precisa armazenar e manipular dados para criar um fluxo ou alguma lógica específica. \n",
    "É para isso que servem as variáveis.\n",
    "\n",
    "Você pode ter uma variável para armazenar um nome, outra para armazenar a idade de uma pessoa, ou até mesmo usar um tipo mais complexo para armazenar tudo isso de uma vez, como um dicionário.\n",
    "\n",
    "Criar, também é conhecido como Declarar.\n",
    "Declarar uma variável é uma operação básica e direta em Python\n",
    "\n",
    "Basta escolher um nome e atribuir um valor a ele usando o símbolo ="
   ]
  },
  {
   "cell_type": "code",
   "execution_count": null,
   "id": "ae12345847e0d1d8",
   "metadata": {
    "ExecuteTime": {
     "end_time": "2024-03-20T19:24:53.996996Z",
     "start_time": "2024-03-20T19:24:53.995252Z"
    },
    "collapsed": false
   },
   "outputs": [],
   "source": [
    "nome = 'Matuzalem'\n",
    "\n",
    "idade = 32"
   ]
  },
  {
   "cell_type": "markdown",
   "id": "dc68fb44ebb9ee29",
   "metadata": {
    "collapsed": false
   },
   "source": [
    "Você pode usar a função print() para mostrar o valor de uma variável"
   ]
  },
  {
   "cell_type": "code",
   "execution_count": null,
   "id": "973c47b6e0554ef1",
   "metadata": {
    "ExecuteTime": {
     "end_time": "2024-03-20T19:25:01.396892Z",
     "start_time": "2024-03-20T19:25:01.395046Z"
    },
    "collapsed": false
   },
   "outputs": [
    {
     "name": "stdout",
     "output_type": "stream",
     "text": [
      "Matuzalem\n",
      "32\n"
     ]
    }
   ],
   "source": [
    "print(nome)\n",
    "\n",
    "print(idade)"
   ]
  },
  {
   "cell_type": "markdown",
   "id": "10abfee4093471bc",
   "metadata": {
    "collapsed": false
   },
   "source": [
    "Note que em Python não há nenhuma palavra especial para declarar uma variável.\n",
    "No momento em que você atribui um valor, a variável é criada na memória.\n",
    "\n",
    "Python também tem tipagem dinâmica, o que significa que você não precisa dizer se sua variável é um texto ou um número, por exemplo.\n",
    "O interpretador infere a tipagem com base no valor atribuído.\n",
    "\n",
    "Se você precisar, você também pode redeclarar uma variável apenas alterando seu valor."
   ]
  },
  {
   "cell_type": "code",
   "execution_count": null,
   "id": "c6423e30f9781a88",
   "metadata": {
    "ExecuteTime": {
     "end_time": "2024-03-20T19:26:33.134751Z",
     "start_time": "2024-03-20T19:26:33.132773Z"
    },
    "collapsed": false
   },
   "outputs": [
    {
     "name": "stdout",
     "output_type": "stream",
     "text": [
      "32\n"
     ]
    }
   ],
   "source": [
    "# declarando o nome como uma string\n",
    "nome = 'Matuzalem'\n",
    "\n",
    "# re-declarando o nome como um int\n",
    "nome = 32\n",
    "\n",
    "# imprimindo o valor de nome\n",
    "print(nome)"
   ]
  },
  {
   "cell_type": "markdown",
   "id": "df8d6e0991136352",
   "metadata": {
    "collapsed": false
   },
   "source": [
    "Tenha em mente, no entanto, que isto não é recomendado, uma vez que as variáveis devem ter significado e contexto.\n",
    "Se eu tiver uma variável chamada nome, não espero que ela tenha um número armazenado nela."
   ]
  },
  {
   "cell_type": "markdown",
   "id": "b5d75b8f2e581a8d",
   "metadata": {
    "collapsed": false
   },
   "source": [
    "---\n",
    "## Conveção de nomenclatura\n",
    "\n",
    "Use nomes significativos. Não use nomes aleatórios de variáveis como x ou y.\n",
    "Digamos que você queira armazenar a hora de uma festa, basta chamá-la de hora_festa.\n",
    "\n",
    "Você notou o sublinhado _ ?\n",
    "\n",
    "Por convenção, se você quiser usar um nome de variável que seja composto de duas ou mais palavras, você as separa por sublinhados. Isto é chamado de Snake Case.\n",
    "Outra opção seria usar CamelCase como em horaFesta. Isto é muito comum em outras línguas, mas não a convenção em Python, como já foi dito anteriormente.\n",
    "\n",
    "Lembre-se que as variáveis são sensíveis a maiúsculas e minúsculas, portanto, hora_festa e Hora_festa não são a mesma coisa. Além disso, tenha em mente que a convenção nos diz para usarmos sempre letras minúsculas.\n",
    "\n",
    "Lembre-se, use nomes que você possa lembrar facilmente dentro de seu programa. A má nomenclatura pode lhe custar muito tempo e causar bugs irritantes.\n",
    "\n",
    "*Em resumo, sobre os nomes de variáveis:*\n",
    "\n",
    "- São sensíveis a maiúsculas e minúsculas: tempo e TEMPO não são a mesma coisa\n",
    "- Têm que começar com um sublinhado _ ou uma letra (NÃO comece com um número!)\n",
    "- Têm permissão para ter apenas números, letras e sublinhados. Nenhum caractere especial como: #, $, &, @, etc.\n",
    "    - Isto, por exemplo, não é permitido: hora#festa, 10horafesta."
   ]
  },
  {
   "cell_type": "markdown",
   "id": "cdc09fc48ee7d7d9",
   "metadata": {
    "collapsed": false
   },
   "source": [
    "---\n",
    "## Tipos\n",
    "\n",
    "Para armazenar dados em Python você precisa usar uma variável. E cada variável tem seu tipo, dependendo do valor dos dados armazenados.\n",
    "Python tem tipagem dinâmica, o que significa que você não precisa declarar explicitamente o tipo de sua variável, mas se você quiser, você pode.\n",
    "\n",
    "\n",
    "#### Determinando o tipo\n",
    "\n",
    "Antes de tudo, vamos aprender como determinar o tipo de dados.\n",
    "Basta usar a função type() e passar a variável de sua escolha como um argumento, como o exemplo abaixo.\n",
    "\n",
    "print(type(minha_variavel))"
   ]
  },
  {
   "cell_type": "markdown",
   "id": "7ae44e62036fa3d",
   "metadata": {
    "collapsed": false
   },
   "source": [
    "##### Booleano\n",
    "\n",
    "O tipo booleano é um dos tipos mais básicos de programação.\n",
    "Uma variável do tipo booleano só pode representar verdadeiro ou falso."
   ]
  },
  {
   "cell_type": "code",
   "execution_count": null,
   "id": "925f6b75cd68cdf4",
   "metadata": {
    "ExecuteTime": {
     "end_time": "2024-03-20T19:35:02.057696Z",
     "start_time": "2024-03-20T19:35:02.055525Z"
    },
    "collapsed": false
   },
   "outputs": [
    {
     "name": "stdout",
     "output_type": "stream",
     "text": [
      "<class 'bool'>\n",
      "<class 'bool'>\n"
     ]
    }
   ],
   "source": [
    "valor_booleano = True\n",
    "print(type(valor_booleano))\n",
    "\n",
    "valor_booleano = bool(1024)\n",
    "print(type(valor_booleano))"
   ]
  },
  {
   "cell_type": "markdown",
   "id": "2abcd0337dd4bbc6",
   "metadata": {
    "collapsed": false
   },
   "source": [
    "##### Números\n",
    "\n",
    "Existem três tipos de números: int, float e complexo."
   ]
  },
  {
   "cell_type": "code",
   "execution_count": null,
   "id": "f30c486bf5c55401",
   "metadata": {
    "ExecuteTime": {
     "end_time": "2024-03-20T19:35:42.948971Z",
     "start_time": "2024-03-20T19:35:42.946726Z"
    },
    "collapsed": false
   },
   "outputs": [
    {
     "name": "stdout",
     "output_type": "stream",
     "text": [
      "<class 'int'>\n",
      "<class 'int'>\n"
     ]
    }
   ],
   "source": [
    "# Inteiro\n",
    "valor_inteiro = 32\n",
    "print(type(valor_inteiro))\n",
    "\n",
    "valor_inteiro = int(32)\n",
    "print(type(valor_inteiro))"
   ]
  },
  {
   "cell_type": "code",
   "execution_count": null,
   "id": "5a170ec5f087f295",
   "metadata": {
    "ExecuteTime": {
     "end_time": "2024-03-20T19:36:11.986488Z",
     "start_time": "2024-03-20T19:36:11.984092Z"
    },
    "collapsed": false
   },
   "outputs": [
    {
     "name": "stdout",
     "output_type": "stream",
     "text": [
      "<class 'float'>\n",
      "<class 'float'>\n"
     ]
    }
   ],
   "source": [
    "# Ponto flutuante - Real\n",
    "valor_real = 32.85   # Usar o . como separador de casa decimal. Está em Inglês!\n",
    "print(type(valor_real))\n",
    "\n",
    "valor_real = float(32.85)\n",
    "print(type(valor_real))"
   ]
  },
  {
   "cell_type": "code",
   "execution_count": null,
   "id": "2f564dd5b4955520",
   "metadata": {
    "ExecuteTime": {
     "end_time": "2024-03-20T19:36:23.209430Z",
     "start_time": "2024-03-20T19:36:23.207142Z"
    },
    "collapsed": false
   },
   "outputs": [
    {
     "name": "stdout",
     "output_type": "stream",
     "text": [
      "<class 'complex'>\n",
      "<class 'complex'>\n"
     ]
    }
   ],
   "source": [
    "# Complexo\n",
    "valor_complexo = 32+4j\n",
    "print(type(valor_complexo))\n",
    "\n",
    "valor_complexo = complex(32+4j)\n",
    "print(type(valor_complexo))"
   ]
  },
  {
   "cell_type": "markdown",
   "id": "f354f4f7f99400fa",
   "metadata": {
    "collapsed": false
   },
   "source": [
    "##### String (texto)\n",
    "\n",
    "O tipo texto é um dos tipos mais comuns e é frequentemente chamado de string ou, em Python, apenas str."
   ]
  },
  {
   "cell_type": "code",
   "execution_count": null,
   "id": "905ffd7e3a59dc28",
   "metadata": {
    "ExecuteTime": {
     "end_time": "2024-03-20T19:37:06.781013Z",
     "start_time": "2024-03-20T19:37:06.778679Z"
    },
    "collapsed": false
   },
   "outputs": [
    {
     "name": "stdout",
     "output_type": "stream",
     "text": [
      "<class 'str'>\n",
      "<class 'str'>\n",
      "<class 'str'>\n"
     ]
    }
   ],
   "source": [
    "minha_cidade = \"Porto Velho\"\n",
    "print(type(minha_cidade))\n",
    "\n",
    "# As áspas simples têm exatamente o mesmo uso que as áspas duplas\n",
    "minha_cidade = 'Porto Velho'\n",
    "print(type(minha_cidade))\n",
    "\n",
    "# Definindo explicitamente o tipo de variável\n",
    "minha_cidade = str(\"Porto Velho\")\n",
    "print(type(minha_cidade))"
   ]
  },
  {
   "cell_type": "markdown",
   "id": "f359b6833a135a2b",
   "metadata": {
    "collapsed": false
   },
   "source": [
    "Você pode usar o + operador para concatenar as strings.\n",
    "A concatenação é quando você tem duas ou mais strings e deseja juntá-las em uma só."
   ]
  },
  {
   "cell_type": "code",
   "execution_count": null,
   "id": "31df1fe03add4e95",
   "metadata": {
    "ExecuteTime": {
     "end_time": "2024-03-20T19:37:35.678482Z",
     "start_time": "2024-03-20T19:37:35.676334Z"
    },
    "collapsed": false
   },
   "outputs": [
    {
     "name": "stdout",
     "output_type": "stream",
     "text": [
      "Porto Velho\n"
     ]
    }
   ],
   "source": [
    "palavra1 = 'Porto '\n",
    "palavra2 = 'Velho'\n",
    "\n",
    "print(palavra1 + palavra2)"
   ]
  },
  {
   "cell_type": "markdown",
   "id": "4dc5ab099863cc41",
   "metadata": {
    "collapsed": false
   },
   "source": [
    "O tipo de string tem muitos métodos embutidos que nos permitem manipulá-los:"
   ]
  },
  {
   "cell_type": "code",
   "execution_count": null,
   "id": "bae98bd61386f189",
   "metadata": {
    "ExecuteTime": {
     "end_time": "2024-03-20T19:37:54.291091Z",
     "start_time": "2024-03-20T19:37:54.288957Z"
    },
    "collapsed": false
   },
   "outputs": [
    {
     "name": "stdout",
     "output_type": "stream",
     "text": [
      "11\n",
      "Porto Seguro\n",
      "PORTO VELHO\n",
      "porto velho\n"
     ]
    }
   ],
   "source": [
    "# A função len() retorna o comprimento de uma string.\n",
    "print(len('Porto Velho'))\n",
    "\n",
    "# O método replace() substitui uma parte da string por outra.\n",
    "# Como exemplo, vamos substituir 'Velho' por 'Seguro'.\n",
    "print('Porto Velho'.replace('Velho', 'Seguro'))\n",
    "\n",
    "# O método upper() devolverá todos os caracteres como maiúsculas.\n",
    "print('Porto Velho'.upper())\n",
    "\n",
    "# O método lower() faz o oposto, e retorna todos os caracteres em minúsculas.\n",
    "print('Porto Velho'.lower())"
   ]
  },
  {
   "cell_type": "markdown",
   "id": "1fe3dac480873df5",
   "metadata": {
    "collapsed": false
   },
   "source": [
    "#### Mudança de tipos - Typecasting\n",
    "\n",
    "Permite a conversão entre diferentes tipos.\n",
    "Assim você pode ter um int transformado em um str, ou um float transformado em uma int, por exemplo.\n",
    "\n",
    "##### Conversão explícita\n",
    "\n",
    "Para transformar uma variável para uma string basta usar a função str()."
   ]
  },
  {
   "cell_type": "code",
   "execution_count": null,
   "id": "516ef393da7e7aa7",
   "metadata": {
    "ExecuteTime": {
     "end_time": "2024-03-20T19:39:14.718928Z",
     "start_time": "2024-03-20T19:39:14.717001Z"
    },
    "collapsed": false
   },
   "outputs": [
    {
     "name": "stdout",
     "output_type": "stream",
     "text": [
      "32\n",
      "32\n",
      "32.0\n"
     ]
    }
   ],
   "source": [
    "# Esta é apenas uma intialização explícita\n",
    "variavel_string = str('32')\n",
    "print(variavel_string)\n",
    "\n",
    "# int to str\n",
    "variavel_string = str(32)\n",
    "print(variavel_string)\n",
    "\n",
    "# float to str\n",
    "variavel_string = str(32.0)\n",
    "print(variavel_string)"
   ]
  },
  {
   "cell_type": "markdown",
   "id": "6d505ccea82ff344",
   "metadata": {
    "collapsed": false
   },
   "source": [
    "Para transformar uma variável para um número inteiro, basta usar a função int()."
   ]
  },
  {
   "cell_type": "code",
   "execution_count": null,
   "id": "12e57c3651b14096",
   "metadata": {
    "ExecuteTime": {
     "end_time": "2024-03-20T19:39:56.772110Z",
     "start_time": "2024-03-20T19:39:56.769935Z"
    },
    "collapsed": false
   },
   "outputs": [
    {
     "name": "stdout",
     "output_type": "stream",
     "text": [
      "32\n",
      "3\n",
      "32\n"
     ]
    }
   ],
   "source": [
    "# Esta é apenas uma intialização explícita\n",
    "variavel_inteiro = int(32)\n",
    "print(variavel_inteiro)\n",
    "\n",
    "# float to int: arredondamento para baixo (para 3)\n",
    "variavel_inteiro = int(3.2)\n",
    "print(variavel_inteiro)\n",
    "\n",
    "# str to int\n",
    "variavel_inteiro = int('32')\n",
    "print(variavel_inteiro)"
   ]
  },
  {
   "cell_type": "markdown",
   "id": "2575306da4244532",
   "metadata": {
    "collapsed": false
   },
   "source": [
    "Para transformar uma variável para um ponto flutuante basta usar a função float()."
   ]
  },
  {
   "cell_type": "code",
   "execution_count": null,
   "id": "bbca8918d4dfb976",
   "metadata": {
    "ExecuteTime": {
     "end_time": "2024-03-20T19:40:21.408383Z",
     "start_time": "2024-03-20T19:40:21.406164Z"
    },
    "collapsed": false
   },
   "outputs": [
    {
     "name": "stdout",
     "output_type": "stream",
     "text": [
      "3.2\n",
      "32.0\n",
      "32.0\n"
     ]
    }
   ],
   "source": [
    "# Esta é uma intialização explícita\n",
    "variavel_float = float(3.2)\n",
    "print(variavel_float)\n",
    "\n",
    "# int para flutuar\n",
    "variavel_float = float(32)\n",
    "print(variavel_float)\n",
    "\n",
    "# str to float\n",
    "variavel_float = float('32')\n",
    "print(variavel_float)"
   ]
  },
  {
   "cell_type": "markdown",
   "id": "a8c774a734ad1065",
   "metadata": {
    "collapsed": false
   },
   "source": [
    "Acima temos a conversão explícita do tipo.\n",
    "Em alguns casos você não precisa fazer a conversão explicitamente, já que Python pode fazê-lo por si só.\n",
    "\n",
    "\n",
    "##### Conversão implícita\n",
    "\n",
    "O exemplo abaixo mostra a conversão implícita ao adicionar um int e um float.\n",
    "\n",
    "Note que minha_soma é do tipo float.\n",
    "Python usa float para evitar perda de dados, uma vez que o tipo de int não pode representar os dígitos decimais."
   ]
  },
  {
   "cell_type": "code",
   "execution_count": null,
   "id": "2930964b35633d80",
   "metadata": {
    "ExecuteTime": {
     "end_time": "2024-03-20T19:41:17.719473Z",
     "start_time": "2024-03-20T19:41:17.717311Z"
    },
    "collapsed": false
   },
   "outputs": [
    {
     "name": "stdout",
     "output_type": "stream",
     "text": [
      "35.2\n",
      "<class 'float'>\n"
     ]
    }
   ],
   "source": [
    "variavel_int = 32\n",
    "variavel_float = 3.2\n",
    "\n",
    "minha_soma = variavel_int + variavel_float\n",
    "\n",
    "print(minha_soma)\n",
    "print(type(minha_soma))"
   ]
  },
  {
   "cell_type": "markdown",
   "id": "64a66db6e5029b4a",
   "metadata": {
    "collapsed": false
   },
   "source": [
    "Por outro lado, neste outro exemplo, quando se adiciona um int e um str, Python não será capaz de fazer a conversão implícita, e a conversão do tipo explícito é necessária"
   ]
  },
  {
   "cell_type": "code",
   "execution_count": null,
   "id": "36f98d7e2168da2e",
   "metadata": {
    "ExecuteTime": {
     "end_time": "2024-03-20T19:42:20.140538Z",
     "start_time": "2024-03-20T19:42:20.138558Z"
    },
    "collapsed": false
   },
   "outputs": [
    {
     "name": "stdout",
     "output_type": "stream",
     "text": [
      "64\n"
     ]
    }
   ],
   "source": [
    "variavel_int = 32\n",
    "variavel_string = '32'\n",
    "\n",
    "# trabalhos explícitos de conversão\n",
    "minha_soma = variavel_int + int(variavel_string)\n",
    "print(minha_soma)"
   ]
  },
  {
   "cell_type": "code",
   "execution_count": null,
   "id": "df9d09558b49122a",
   "metadata": {
    "ExecuteTime": {
     "end_time": "2024-03-20T19:42:34.559169Z",
     "start_time": "2024-03-20T19:42:34.445823Z"
    },
    "collapsed": false
   },
   "outputs": [
    {
     "ename": "TypeError",
     "evalue": "unsupported operand type(s) for +: 'int' and 'str'",
     "output_type": "error",
     "traceback": [
      "\u001b[0;31m---------------------------------------------------------------------------\u001b[0m",
      "\u001b[0;31mTypeError\u001b[0m                                 Traceback (most recent call last)",
      "Cell \u001b[0;32mIn[21], line 2\u001b[0m\n\u001b[1;32m      1\u001b[0m \u001b[38;5;66;03m# a conversão implícita lança um erro\u001b[39;00m\n\u001b[0;32m----> 2\u001b[0m minha_soma \u001b[38;5;241m=\u001b[39m \u001b[43mvariavel_int\u001b[49m\u001b[43m \u001b[49m\u001b[38;5;241;43m+\u001b[39;49m\u001b[43m \u001b[49m\u001b[43mvariavel_string\u001b[49m\n",
      "\u001b[0;31mTypeError\u001b[0m: unsupported operand type(s) for +: 'int' and 'str'"
     ]
    }
   ],
   "source": [
    "# a conversão implícita lança um erro\n",
    "minha_soma = variavel_int + variavel_string"
   ]
  },
  {
   "cell_type": "markdown",
   "id": "4eabd46ba943da96",
   "metadata": {
    "collapsed": false
   },
   "source": [
    "O mesmo erro é lançado quando se tenta adicionar tipos float e strings sem fazer uma conversão explícita."
   ]
  },
  {
   "cell_type": "code",
   "execution_count": null,
   "id": "b7cb08e1264d154d",
   "metadata": {
    "ExecuteTime": {
     "end_time": "2024-03-20T19:42:50.793840Z",
     "start_time": "2024-03-20T19:42:50.792170Z"
    },
    "collapsed": false
   },
   "outputs": [
    {
     "name": "stdout",
     "output_type": "stream",
     "text": [
      "35.2\n"
     ]
    }
   ],
   "source": [
    "variavel_float = 3.2\n",
    "variavel_string = '32'\n",
    "\n",
    "# trabalhos explícitos de conversão\n",
    "minha_soma = variavel_float + float(variavel_string)\n",
    "print(minha_soma)"
   ]
  },
  {
   "cell_type": "code",
   "execution_count": null,
   "id": "a007dc6323ad26b0",
   "metadata": {
    "ExecuteTime": {
     "end_time": "2024-03-20T19:42:53.977631Z",
     "start_time": "2024-03-20T19:42:53.970625Z"
    },
    "collapsed": false
   },
   "outputs": [
    {
     "ename": "TypeError",
     "evalue": "unsupported operand type(s) for +: 'float' and 'str'",
     "output_type": "error",
     "traceback": [
      "\u001b[0;31m---------------------------------------------------------------------------\u001b[0m",
      "\u001b[0;31mTypeError\u001b[0m                                 Traceback (most recent call last)",
      "Cell \u001b[0;32mIn[23], line 2\u001b[0m\n\u001b[1;32m      1\u001b[0m \u001b[38;5;66;03m# a conversão implícita lança um erro\u001b[39;00m\n\u001b[0;32m----> 2\u001b[0m minha_soma \u001b[38;5;241m=\u001b[39m \u001b[43mvariavel_float\u001b[49m\u001b[43m \u001b[49m\u001b[38;5;241;43m+\u001b[39;49m\u001b[43m \u001b[49m\u001b[43mvariavel_string\u001b[49m\n",
      "\u001b[0;31mTypeError\u001b[0m: unsupported operand type(s) for +: 'float' and 'str'"
     ]
    }
   ],
   "source": [
    "# a conversão implícita lança um erro\n",
    "minha_soma = variavel_float + variavel_string"
   ]
  },
  {
   "cell_type": "markdown",
   "id": "51f2612719199bed",
   "metadata": {
    "collapsed": false
   },
   "source": [
    "---\n",
    "## Entrada de usuário\n",
    "\n",
    "Se você precisar interagir com um usuário ao executar seu programa na linha de comando (por exemplo, para pedir uma informação), você pode usar a função input()."
   ]
  },
  {
   "cell_type": "code",
   "execution_count": null,
   "id": "830bf6036cae0b76",
   "metadata": {
    "ExecuteTime": {
     "end_time": "2024-03-20T19:43:27.624435Z",
     "start_time": "2024-03-20T19:43:23.586559Z"
    },
    "collapsed": false
   },
   "outputs": [
    {
     "name": "stdout",
     "output_type": "stream",
     "text": [
      "Brasil\n"
     ]
    }
   ],
   "source": [
    "pais = input(\"Qual é seu país?\") # usuário entra em 'Brasil'.\n",
    "print(pais)"
   ]
  },
  {
   "cell_type": "markdown",
   "id": "a67ef73c43a37d9f",
   "metadata": {
    "collapsed": false
   },
   "source": [
    "O valor capturado é sempre string. Basta lembrar que você pode precisar convertê-lo usando a digitação."
   ]
  },
  {
   "cell_type": "code",
   "execution_count": null,
   "id": "40ba2d5ad23c9148",
   "metadata": {
    "ExecuteTime": {
     "end_time": "2024-03-20T19:44:02.621465Z",
     "start_time": "2024-03-20T19:44:00.176386Z"
    },
    "collapsed": false
   },
   "outputs": [
    {
     "name": "stdout",
     "output_type": "stream",
     "text": [
      "22\n",
      "<class 'str'>\n",
      "<class 'int'>\n"
     ]
    }
   ],
   "source": [
    "idade = input(\"Quantos anos você tem?\") # o usuário entra '29'\n",
    "\n",
    "print(idade)\n",
    "print(type(idade))\n",
    "idade = int(idade)\n",
    "print(type(idade))"
   ]
  },
  {
   "cell_type": "markdown",
   "id": "45cb9ed0eeb45cf0",
   "metadata": {
    "collapsed": false
   },
   "source": [
    "Observe que a idade de 29 anos é capturada como string e depois convertida explicitamente para int.\n",
    "\n",
    "---\n",
    "## Operadores\n",
    "\n",
    "Em uma linguagem de programação, os operadores são símbolos especiais que você pode aplicar a suas variáveis e valores a fim de realizar operações como aritmética/matemática e comparação.\n",
    "\n",
    "Python tem muitos operadores que você pode aplicar a suas variáveis e eu vou demonstrar os mais utilizados.\n",
    "\n",
    "#### Operadores aritméticos\n",
    "\n",
    "Os operadores aritméticos são o tipo mais comum de operadores e também os mais reconhecíveis.\n",
    "Eles permitem que você realize operações matemáticas simples.\n",
    "Eles são:\n",
    "- +: Adição\n",
    "- -: Subtração\n",
    "- *: Multiplicação\n",
    "- /: Divisão\n",
    "- **: Exponenciação\n",
    "- //: Divisão inteira, arredonda o resultado de uma divisão\n",
    "- %: Modulus, dá o restante de uma divisão\n",
    "\n",
    "Vamos ver um programa que mostra como cada uma delas é utilizada."
   ]
  },
  {
   "cell_type": "code",
   "execution_count": null,
   "id": "83cd03883918cc10",
   "metadata": {
    "ExecuteTime": {
     "end_time": "2024-03-20T19:44:48.800722Z",
     "start_time": "2024-03-20T19:44:48.798427Z"
    },
    "collapsed": false
   },
   "outputs": [
    {
     "name": "stdout",
     "output_type": "stream",
     "text": [
      "Adição: 7\n",
      "Subtração: 3\n",
      "Multiplicação: 10\n",
      "Divisão: 2.5\n",
      "Divisão inteira: 2\n",
      "Exponenciação: 25\n",
      "Módulo: 1\n"
     ]
    }
   ],
   "source": [
    "print('Adição:', 5 + 2)\n",
    "print('Subtração:', 5 - 2)\n",
    "print('Multiplicação:', 5 * 2)\n",
    "print('Divisão:', 5 / 2)\n",
    "print('Divisão inteira:', 5 // 2)\n",
    "print('Exponenciação:', 5 ** 2)\n",
    "print('Módulo:', 5 % 2)"
   ]
  },
  {
   "cell_type": "markdown",
   "id": "371b7cefe9bce9ca",
   "metadata": {
    "collapsed": false
   },
   "source": [
    "#### Concatenação\n",
    "\n",
    "A concatenação é quando você tem duas ou mais Strings e quer juntá-las em uma só. Isto é útil quando você tem informações em múltiplas variáveis e quer combiná-las.\n",
    "\n",
    "Por exemplo, neste próximo exemplo, eu combino duas variáveis que contêm meu primeiro nome e meu sobrenome respectivamente para ter meu nome completo.\n",
    "\n",
    "*O operador + também é usado para concatenar.*"
   ]
  },
  {
   "cell_type": "code",
   "execution_count": null,
   "id": "ff794385ea040477",
   "metadata": {
    "collapsed": false
   },
   "outputs": [],
   "source": [
    "primeiro_nome = 'Daniel'\n",
    "ultimo_nome = 'Porto'\n",
    "\n",
    "print(primeiro_nome + ultimo_nome)"
   ]
  },
  {
   "cell_type": "markdown",
   "id": "f4e12a2e802a7ea6",
   "metadata": {
    "collapsed": false
   },
   "source": [
    "Como a concatenação é aplicada a strings, para concatenar strings com outros tipos, é necessário fazer uma digitação explícita usando str().\n",
    "Tenho que digitar o valor int 30 para concatenar a string com str() para concatená-la com o resto da string."
   ]
  },
  {
   "cell_type": "code",
   "execution_count": null,
   "id": "9d64160a0b3646be",
   "metadata": {
    "ExecuteTime": {
     "end_time": "2024-03-20T19:45:15.389889Z",
     "start_time": "2024-03-20T19:45:15.388214Z"
    },
    "collapsed": false
   },
   "outputs": [
    {
     "name": "stdout",
     "output_type": "stream",
     "text": [
      "Eu tenho 30 anos de idade\n"
     ]
    }
   ],
   "source": [
    "idade = 'Eu tenho ' + str(30) + ' anos de idade'\n",
    "print(idade)"
   ]
  },
  {
   "cell_type": "markdown",
   "id": "cc43526ab710200",
   "metadata": {
    "collapsed": false
   },
   "source": [
    "#### Operadores de Comparação\n",
    "\n",
    "Use operadores de comparação para comparar dois valores.\n",
    "Estes operadores retornam Verdadeiro ou Falso. Eles são:\n",
    "\n",
    "- == : Igual\n",
    "- != : Não iguais\n",
    "- \\> : Maior do que\n",
    "- < : Menor do que\n",
    "- \\>= : Maior ou igual a\n",
    "- <= : Menor ou igual a\n",
    "\n",
    "Vamos ver um programa que mostra como cada um deles é usado."
   ]
  },
  {
   "cell_type": "code",
   "execution_count": null,
   "id": "ae3af30c54d85a5f",
   "metadata": {
    "ExecuteTime": {
     "end_time": "2024-03-20T19:45:51.426174Z",
     "start_time": "2024-03-20T19:45:51.423105Z"
    },
    "collapsed": false
   },
   "outputs": [
    {
     "name": "stdout",
     "output_type": "stream",
     "text": [
      "Igual: False\n",
      "Não igual: True\n",
      "Maior do que: True\n",
      "Menor do que: False\n",
      "Maior ou igual a: True\n",
      "Menor ou igual a: False\n"
     ]
    }
   ],
   "source": [
    "print('Igual:', 5 == 2)\n",
    "print('Não igual:', 5 != 2)\n",
    "print('Maior do que:', 5 > 2)\n",
    "print('Menor do que:', 5 < 2)\n",
    "print('Maior ou igual a:', 5 >= 2)\n",
    "print('Menor ou igual a:', 5 <= 2)"
   ]
  },
  {
   "cell_type": "markdown",
   "id": "98ae8d60156b7829",
   "metadata": {
    "collapsed": false
   },
   "source": [
    "#### Operadores de Atribuição\n",
    "\n",
    "Como o nome indica, estes operadores são usados para atribuir valores a variáveis.\n",
    "x = 7 no primeiro exemplo é uma atribuição direta que armazena o número 7 na variável x.\n",
    "\n",
    "A operação de atribuição toma o valor à direita e o atribui à variável à esquerda.\n",
    "Os outros operadores são abreviações simples para os Operadores Aritméticos."
   ]
  },
  {
   "cell_type": "code",
   "execution_count": null,
   "id": "980212709d7a9680",
   "metadata": {
    "ExecuteTime": {
     "end_time": "2024-03-20T19:46:08.418157Z",
     "start_time": "2024-03-20T19:46:08.416249Z"
    },
    "collapsed": false
   },
   "outputs": [
    {
     "name": "stdout",
     "output_type": "stream",
     "text": [
      "7\n"
     ]
    }
   ],
   "source": [
    "# =: atribuição simples\n",
    "x = 7\n",
    "print(x)"
   ]
  },
  {
   "cell_type": "markdown",
   "id": "dbb6d7d4c0b55441",
   "metadata": {
    "collapsed": false
   },
   "source": [
    "No segundo exemplo, x começa com 7 e x += 2 é apenas outra forma de escrever x = x + 2.\n",
    "Isto significa que o valor anterior de x é adicionado por 2 e reatribuído a x que agora é igual a 9."
   ]
  },
  {
   "cell_type": "code",
   "execution_count": null,
   "id": "c2a8aa1ba06109d4",
   "metadata": {
    "ExecuteTime": {
     "end_time": "2024-03-20T19:46:35.625999Z",
     "start_time": "2024-03-20T19:46:35.623910Z"
    },
    "collapsed": false
   },
   "outputs": [
    {
     "name": "stdout",
     "output_type": "stream",
     "text": [
      "9\n"
     ]
    }
   ],
   "source": [
    "# +=: adição e atribuição\n",
    "x = 7\n",
    "x += 2\n",
    "print(x)"
   ]
  },
  {
   "cell_type": "code",
   "execution_count": null,
   "id": "1f1ab431c5dcdd7a",
   "metadata": {
    "ExecuteTime": {
     "end_time": "2024-03-20T19:46:41.031859Z",
     "start_time": "2024-03-20T19:46:41.029941Z"
    },
    "collapsed": false
   },
   "outputs": [
    {
     "name": "stdout",
     "output_type": "stream",
     "text": [
      "5\n"
     ]
    }
   ],
   "source": [
    "# -=: subtração e atribuição\n",
    "x = 7\n",
    "x -= 2\n",
    "print(x)"
   ]
  },
  {
   "cell_type": "code",
   "execution_count": null,
   "id": "61cf35d96b58ca9d",
   "metadata": {
    "ExecuteTime": {
     "end_time": "2024-03-20T19:46:43.680724Z",
     "start_time": "2024-03-20T19:46:43.678475Z"
    },
    "collapsed": false
   },
   "outputs": [
    {
     "name": "stdout",
     "output_type": "stream",
     "text": [
      "14\n"
     ]
    }
   ],
   "source": [
    "# *=: multiplicação e atribuição\n",
    "x = 7\n",
    "x *= 2\n",
    "print(x)"
   ]
  },
  {
   "cell_type": "code",
   "execution_count": null,
   "id": "390a3020cdb00869",
   "metadata": {
    "ExecuteTime": {
     "end_time": "2024-03-20T19:46:46.627844Z",
     "start_time": "2024-03-20T19:46:46.626026Z"
    },
    "collapsed": false
   },
   "outputs": [
    {
     "name": "stdout",
     "output_type": "stream",
     "text": [
      "3.5\n"
     ]
    }
   ],
   "source": [
    "# /=: divisão e atribuição\n",
    "x = 7\n",
    "x /= 2\n",
    "print(x)"
   ]
  },
  {
   "cell_type": "code",
   "execution_count": null,
   "id": "c8d20c0f30a42875",
   "metadata": {
    "ExecuteTime": {
     "end_time": "2024-03-20T19:46:49.851728Z",
     "start_time": "2024-03-20T19:46:49.849853Z"
    },
    "collapsed": false
   },
   "outputs": [
    {
     "name": "stdout",
     "output_type": "stream",
     "text": [
      "1\n"
     ]
    }
   ],
   "source": [
    "# %=: módulo e atribuição\n",
    "x = 7\n",
    "x %= 2\n",
    "print(x)"
   ]
  },
  {
   "cell_type": "code",
   "execution_count": null,
   "id": "8fdcffd1b71451cb",
   "metadata": {
    "ExecuteTime": {
     "end_time": "2024-03-20T19:46:52.843167Z",
     "start_time": "2024-03-20T19:46:52.841148Z"
    },
    "collapsed": false
   },
   "outputs": [
    {
     "name": "stdout",
     "output_type": "stream",
     "text": [
      "3\n"
     ]
    }
   ],
   "source": [
    "# //=: divisão e atribuição de andares\n",
    "x = 7\n",
    "x //= 2\n",
    "print(x)"
   ]
  },
  {
   "cell_type": "code",
   "execution_count": null,
   "id": "62708810cf6934f8",
   "metadata": {
    "ExecuteTime": {
     "end_time": "2024-03-20T19:46:56.428364Z",
     "start_time": "2024-03-20T19:46:56.426126Z"
    },
    "collapsed": false
   },
   "outputs": [
    {
     "name": "stdout",
     "output_type": "stream",
     "text": [
      "49\n"
     ]
    }
   ],
   "source": [
    "# **=: exponenciação e atribuição\n",
    "x = 7\n",
    "x **= 2\n",
    "print(x)"
   ]
  },
  {
   "cell_type": "markdown",
   "id": "4e728c89c8e60e3b",
   "metadata": {
    "collapsed": false
   },
   "source": [
    "#### Operadores lógicos\n",
    "\n",
    "Operadores lógicos são usados para combinar declarações aplicando álgebra booleana. Eles são:\n",
    "\n",
    "- and: Verdade somente quando ambas as afirmações são verdadeiras\n",
    "- or: Falso somente quando ambos x e y são falsos\n",
    "- not: O operador não operador simplesmente inverte a entrada, True torna-se Falso e vice-versa.\n",
    "  \n",
    "Vamos ver um programa que mostra como cada um é utilizado."
   ]
  },
  {
   "cell_type": "code",
   "execution_count": null,
   "id": "9f08f84a7147c8bb",
   "metadata": {
    "ExecuteTime": {
     "end_time": "2024-03-20T19:47:33.797029Z",
     "start_time": "2024-03-20T19:47:33.795015Z"
    },
    "collapsed": false
   },
   "outputs": [
    {
     "name": "stdout",
     "output_type": "stream",
     "text": [
      "False\n",
      "True\n",
      "False\n"
     ]
    }
   ],
   "source": [
    "x = 5\n",
    "y = 2\n",
    "print(x == 5 and y > 3)\n",
    "print(x == 5 or y > 3)\n",
    "print(not (x == 5))"
   ]
  },
  {
   "cell_type": "markdown",
   "id": "e222d5dd816ba8af",
   "metadata": {
    "collapsed": false
   },
   "source": [
    "#### Condicionais\n",
    "\n",
    "Os condicionais são uma das pedras angulares de qualquer linguagem de programação.\n",
    "Eles permitem controlar o fluxo do programa de acordo com condições específicas que você pode verificar.\n",
    "A forma como você implementa um condicional é através da declaração de *if*.\n",
    "\n",
    "A forma geral de uma declaração de *if* é:"
   ]
  },
  {
   "cell_type": "code",
   "execution_count": null,
   "id": "8716278e85aa5f5",
   "metadata": {
    "collapsed": false
   },
   "outputs": [],
   "source": [
    "if expression:\n",
    "    statement"
   ]
  },
  {
   "cell_type": "markdown",
   "id": "6517cc0e49816a24",
   "metadata": {
    "collapsed": false
   },
   "source": [
    "A expressão contém alguma lógica que retorna um booleano, e a declaração é executada somente se o retorno for Verdadeiro."
   ]
  },
  {
   "cell_type": "code",
   "execution_count": null,
   "id": "45db42b767cc9ca5",
   "metadata": {
    "ExecuteTime": {
     "end_time": "2024-03-20T19:48:14.769139Z",
     "start_time": "2024-03-20T19:48:14.767106Z"
    },
    "collapsed": false
   },
   "outputs": [
    {
     "name": "stdout",
     "output_type": "stream",
     "text": [
      "Conan é mais velho que Xena\n"
     ]
    }
   ],
   "source": [
    "# Um exemplo simples:\n",
    "\n",
    "idade_Conan = 32\n",
    "idade_Xena = 29\n",
    "\n",
    "if idade_Conan > idade_Xena:\n",
    "    print('Conan é mais velho que Xena')"
   ]
  },
  {
   "cell_type": "markdown",
   "id": "f202a513355e8147",
   "metadata": {
    "collapsed": false
   },
   "source": [
    "Temos duas variáveis que indicam as idades de Conan e Xena. A condição em inglês simples diz\n",
    "\"se a idade de Conan é maior do que a de Xena, então imprima a frase 'Conan é mais velho que Xena'\".\n",
    "Como a condição retorna *True*, a frase será impressa no console.\n",
    "\n",
    "No nosso último exemplo, o programa só faz algo se a condição retorna True.\n",
    "Mas também queremos que ele faça algo se retornar Falso ou mesmo verificar uma segunda ou terceira condição se a primeira não foi atendida.\n",
    "\n",
    "Neste próximo exemplo, trocamos a idade de Conan e Xena.\n",
    "A primeira condição retornará Falso já que Xena é mais velha agora, e então o programa imprimirá outra frase."
   ]
  },
  {
   "cell_type": "code",
   "execution_count": null,
   "id": "de31044e13cef52e",
   "metadata": {
    "ExecuteTime": {
     "end_time": "2024-03-20T19:48:45.090896Z",
     "start_time": "2024-03-20T19:48:45.089090Z"
    },
    "collapsed": false
   },
   "outputs": [
    {
     "name": "stdout",
     "output_type": "stream",
     "text": [
      "Conan é mais jovem que Xena\n"
     ]
    }
   ],
   "source": [
    "idade_Conan = 29\n",
    "idade_Xena = 32\n",
    "\n",
    "if idade_Conan > idade_Xena:\n",
    "    print('Conan é mais velho que Xena')\n",
    "else:\n",
    "    print('Conan é mais jovem que Xena')"
   ]
  },
  {
   "cell_type": "markdown",
   "id": "bb30c7d33b1c8db4",
   "metadata": {
    "collapsed": false
   },
   "source": [
    "Agora, considere o exemplo abaixo com o elif.\n",
    "O objetivo do elif é fornecer uma nova condição a ser verificada antes que a outra seja executada.\n",
    "Mais uma vez mudamos suas idades e agora ambos têm 32 anos de idade.\n",
    "A condição no elif é cumprida. Como ambos têm a mesma idade, o programa irá imprimir \"Conan e Xena têm a mesma idade\"."
   ]
  },
  {
   "cell_type": "code",
   "execution_count": null,
   "id": "b81a4ca265bf17dc",
   "metadata": {
    "ExecuteTime": {
     "end_time": "2024-03-20T19:49:39.704746Z",
     "start_time": "2024-03-20T19:49:39.702745Z"
    },
    "collapsed": false
   },
   "outputs": [
    {
     "name": "stdout",
     "output_type": "stream",
     "text": [
      "Conan e Xena têm a mesma idade\n"
     ]
    }
   ],
   "source": [
    "idade_Conan = 32\n",
    "idade_Xena = 32\n",
    "\n",
    "if idade_Conan > idade_Xena:\n",
    "    print('Conan é mais velho que Xena')\n",
    "elif idade_Conan == idade_Xena:\n",
    "    print('Conan e Xena têm a mesma idade')\n",
    "else:\n",
    "    print('Conan é mais jovem que Xena')"
   ]
  },
  {
   "cell_type": "markdown",
   "id": "50e00253abe3dc8b",
   "metadata": {
    "collapsed": false
   },
   "source": [
    "Note que você pode ter quantos elifs quiser, basta colocá-los em sequência."
   ]
  },
  {
   "cell_type": "code",
   "execution_count": null,
   "id": "9fe4c90c0e3a3efd",
   "metadata": {
    "collapsed": false
   },
   "outputs": [],
   "source": [
    "if idade_Conan > idade_Xena:\n",
    "    print('Conan é mais velho que Xena')\n",
    "elif idade_Conan < idade_Xena:\n",
    "    print('Conan é mais jovem que Xena')\n",
    "elif idade_Conan == idade_Xena:\n",
    "    print('Conan e Xena têm a mesma idade')\n",
    "else:\n",
    "    print('Este nunca é executado')"
   ]
  },
  {
   "cell_type": "markdown",
   "id": "e840ed04f27f0d7",
   "metadata": {
    "collapsed": false
   },
   "source": [
    "Neste exemplo, o else nunca é executado porque todas as possibilidades estão cobertas nas condições anteriores e, portanto, poderiam ser removido.\n",
    "\n",
    "#### Condicionais aninhadas\n",
    "\n",
    "Você pode precisar verificar mais de uma condição para que algo aconteça.\n",
    "\n",
    "Neste caso, você pode aninhar suas declarações.\n",
    "\n",
    "Por exemplo, a segunda frase \"Conan é o mais velho\" é impressa somente se ambos os ifs passarem."
   ]
  },
  {
   "cell_type": "code",
   "execution_count": null,
   "id": "ba8cad49fd7554a3",
   "metadata": {
    "ExecuteTime": {
     "end_time": "2024-03-20T19:50:22.721084Z",
     "start_time": "2024-03-20T19:50:22.718815Z"
    },
    "collapsed": false
   },
   "outputs": [
    {
     "name": "stdout",
     "output_type": "stream",
     "text": [
      "Conan é mais velho que Xena\n",
      "Conan é o mais velho\n"
     ]
    }
   ],
   "source": [
    "idade_Conan = 32\n",
    "idade_Xena = 28\n",
    "idade_Hercules = 25\n",
    "\n",
    "\n",
    "if idade_Conan > idade_Xena:\n",
    "    print('Conan é mais velho que Xena')\n",
    "    if idade_Conan > idade_Hercules:\n",
    "        print('Conan é o mais velho')"
   ]
  },
  {
   "cell_type": "markdown",
   "id": "cdb748bf64c7d7d8",
   "metadata": {
    "collapsed": false
   },
   "source": [
    "Ou, dependendo da lógica, torná-la mais simples com Álgebra Booleana.\n",
    "Desta forma, seu código é menor, mais legível e mais fácil de manter."
   ]
  },
  {
   "cell_type": "code",
   "execution_count": null,
   "id": "d6758271628b44c",
   "metadata": {
    "collapsed": false
   },
   "outputs": [],
   "source": [
    "idade_Conan = 32\n",
    "idade_Xena = 28\n",
    "idade_Hercules = 25\n",
    "\n",
    "\n",
    "if idade_Conan > idade_Xena and idade_Conan > idade_Hercules:\n",
    "    print('Conan é o mais velho')"
   ]
  },
  {
   "cell_type": "markdown",
   "id": "8d8a7e08f9b4b935",
   "metadata": {
    "collapsed": false
   },
   "source": []
  },
  {
   "cell_type": "markdown",
   "id": "7f2d6151f60204b1",
   "metadata": {
    "collapsed": false
   },
   "source": [
    "#### Operadores Ternários\n",
    "\n",
    "O operador ternário é uma declaração *if* de uma linha.\n",
    "\n",
    "É muito útil para condições simples.\n",
    "\n",
    "Possui este o aspecto:\n",
    "*<expressão>* if *<condição>* else *<expressão>*\n",
    "\n",
    "Considere o seguinte código Python:"
   ]
  },
  {
   "cell_type": "code",
   "execution_count": null,
   "id": "99ba821bf374b6dc",
   "metadata": {
    "ExecuteTime": {
     "end_time": "2024-03-20T19:52:23.405397Z",
     "start_time": "2024-03-20T19:52:23.403362Z"
    },
    "collapsed": false
   },
   "outputs": [
    {
     "name": "stdout",
     "output_type": "stream",
     "text": [
      "1\n"
     ]
    }
   ],
   "source": [
    "a = 25\n",
    "b = 50\n",
    "x = 0\n",
    "y = 1\n",
    "\n",
    "resultado = x if a > b else y\n",
    "\n",
    "print(resultado)"
   ]
  },
  {
   "cell_type": "markdown",
   "id": "e3cf13844461a86c",
   "metadata": {
    "collapsed": false
   },
   "source": [
    "Aqui usamos quatro variáveis, a e b são para a condição, enquanto x e y representam as expressões.\n",
    "a e b são os valores que estamos verificando uns contra os outros para avaliar alguma condição.\n",
    "\n",
    "Neste caso, estamos verificando se a é maior que b.\n",
    "Se a expressão for verdadeira, isto é, a for maior que b, então o valor de x será atribuído ao resultado que será igual a 0.\n",
    "Entretanto, se a for menor que b, então teremos o valor de y atribuído ao resultado, e o resultado manterá o valor 1.\n",
    "\n",
    "Como a é menor que b, 25 < 50, o resultado terá 1 como valor final de y.\n",
    "\n",
    "A maneira mais fácil de lembrar como a condição é avaliada é lê-la em inglês simples.\n",
    "Nosso exemplo seria: o resultado será x se a for maior que b; caso contrário será y."
   ]
  },
  {
   "cell_type": "markdown",
   "id": "43e58f051ba0775b",
   "metadata": {
    "collapsed": false
   },
   "source": [
    "---\n",
    "## Loops While\n",
    "\n",
    "Loops são usados quando você precisa repetir um bloco de código um certo número de vezes ou aplicar a mesma lógica sobre cada item de uma coleção.\n",
    "\n",
    "Há dois tipos de loops: for e while.\n",
    "\n",
    "#### Sintaxe básica\n",
    "\n",
    "A sintaxe básica de um loop while é a seguinte."
   ]
  },
  {
   "cell_type": "code",
   "execution_count": null,
   "id": "c967e45207f4c80a",
   "metadata": {
    "collapsed": false
   },
   "outputs": [],
   "source": [
    "while condition:\n",
    "    statement"
   ]
  },
  {
   "cell_type": "markdown",
   "id": "55b7d72688bcc1a9",
   "metadata": {
    "collapsed": false
   },
   "source": [
    "O laço continuará enquanto a condição for verdadeira.\n",
    "\n",
    "Ex: O quadrado de um número. O exemplo abaixo toma cada valor de número e calcula seu valor quadrático."
   ]
  },
  {
   "cell_type": "code",
   "execution_count": null,
   "id": "49d407dddd1bd6f3",
   "metadata": {
    "ExecuteTime": {
     "end_time": "2024-03-20T19:58:02.955703Z",
     "start_time": "2024-03-20T19:58:02.953477Z"
    },
    "collapsed": false
   },
   "outputs": [
    {
     "name": "stdout",
     "output_type": "stream",
     "text": [
      "1 ao quadrado é 1\n",
      "2 ao quadrado é 4\n",
      "3 ao quadrado é 9\n",
      "4 ao quadrado é 16\n",
      "5 ao quadrado é 25\n"
     ]
    }
   ],
   "source": [
    "numero = 1\n",
    "while numero <= 5:\n",
    "    print(numero, 'ao quadrado é', numero ** 2)\n",
    "    numero = numero + 1"
   ]
  },
  {
   "cell_type": "markdown",
   "id": "fdb369309798f5fe",
   "metadata": {
    "collapsed": false
   },
   "source": [
    "Você pode usar qualquer nome variável, mas eu escolhi o número porque faz sentido no contexto.\n",
    "Uma escolha genérica comum seria simplesmente i.\n",
    "\n",
    "O laço continuará até que o número (inicializado com 1) seja menor ou igual a 5.\n",
    "Observe que após o comando print(), o número da variável é incrementado em 1 para tomar o próximo valor.\n",
    "\n",
    "Se você não fizer a incrementação, você terá um loop infinito, pois o número nunca alcançará um valor maior que 5. **Este é um detalhe muito importante!**\n",
    "\n",
    "#### Bloco else\n",
    "\n",
    "Quando a condição retornar Falso, o bloco else será chamado."
   ]
  },
  {
   "cell_type": "code",
   "execution_count": null,
   "id": "68895f72e8783ef4",
   "metadata": {
    "ExecuteTime": {
     "end_time": "2024-03-20T19:59:14.395260Z",
     "start_time": "2024-03-20T19:59:14.392940Z"
    },
    "collapsed": false
   },
   "outputs": [
    {
     "name": "stdout",
     "output_type": "stream",
     "text": [
      "1 ao quadrado é 1\n",
      "2 ao quadrado é 4\n",
      "3 ao quadrado é 9\n",
      "4 ao quadrado é 16\n",
      "5 ao quadrado é 25\n",
      "Não sobraram números!\n"
     ]
    }
   ],
   "source": [
    "numero = 1\n",
    "while numero <= 5:\n",
    "    print(numero, 'ao quadrado é', numero ** 2)\n",
    "    numero = numero + 1\n",
    "else:\n",
    "    print('Não sobraram números!')"
   ]
  },
  {
   "cell_type": "markdown",
   "id": "19ecf98fb88a5040",
   "metadata": {
    "collapsed": false
   },
   "source": [
    "Observe que a frase 'Não sobraram números!' é impressa após o fim do laço, ou seja, após o valor da condição <= 5 mudar para Falso.\n",
    "\n",
    "##### Como quebrar um loop em Python\n",
    "\n",
    "Simplesmente use a palavra-chave *break*, e o loop irá parar sua execução."
   ]
  },
  {
   "cell_type": "code",
   "execution_count": null,
   "id": "4b796decbc23b196",
   "metadata": {
    "ExecuteTime": {
     "end_time": "2024-03-20T20:00:00.738075Z",
     "start_time": "2024-03-20T20:00:00.736058Z"
    },
    "collapsed": false
   },
   "outputs": [
    {
     "name": "stdout",
     "output_type": "stream",
     "text": [
      "1 ao quadrado é 1\n",
      "2 ao quadrado é 4\n",
      "3 ao quadrado é 9\n"
     ]
    }
   ],
   "source": [
    "numero = 1\n",
    "while numero <= 5:\n",
    "    print(numero, 'ao quadrado é', numero ** 2)\n",
    "    numero = numero + 1\n",
    "    if numero == 4:\n",
    "        break"
   ]
  },
  {
   "cell_type": "markdown",
   "id": "7eb6a17f55fd9ed5",
   "metadata": {
    "collapsed": false
   },
   "source": [
    "O loop funciona normalmente, e quando o número chega a 4 o valor lógico do *if* é True, o comando de quebra (break é chamado). \n",
    "Isto termina o loop antes que o valor ao quadrado dos números 4 e 5 sejam calculados.\n",
    "\n",
    "##### Como pular um item em um loop de tempo\n",
    "\n",
    "O *continue* fará isso por você.\n",
    "\n",
    "Vamos inverter a ordem da instrução if e da impressão() para mostrar como ela funciona corretamente:"
   ]
  },
  {
   "cell_type": "code",
   "execution_count": null,
   "id": "8a1e9f7d24154681",
   "metadata": {
    "ExecuteTime": {
     "end_time": "2024-03-20T20:00:55.275156Z",
     "start_time": "2024-03-20T20:00:55.273037Z"
    },
    "collapsed": false
   },
   "outputs": [
    {
     "name": "stdout",
     "output_type": "stream",
     "text": [
      "2 ao quadrado é 4\n",
      "3 ao quadrado é 9\n",
      "5 ao quadrado é 25\n",
      "6 ao quadrado é 36\n"
     ]
    }
   ],
   "source": [
    "numero = 1\n",
    "while numero <= 5:\n",
    "    numero = numero + 1\n",
    "    if numero == 4:\n",
    "        continue\n",
    "    print(numero, 'ao quadrado é', numero ** 2)"
   ]
  },
  {
   "cell_type": "markdown",
   "id": "d366b70bbe20d2c9",
   "metadata": {
    "collapsed": false
   },
   "source": [
    "O programa sempre verifica se 4 é o valor atual do número. Se for, o quadrado de 4 não será calculado e o *continue* saltará para a próxima iteração quando o valor do número for 5.\n",
    "\n",
    "---\n",
    "## Loops For\n",
    "\n",
    "Loops for são similares aos loops while no sentido de que são usados para repetir blocos de código.\n",
    "A diferença mais importante é que você pode facilmente iterar sobre os tipos sequenciais.\n",
    "\n",
    "##### Sintaxe básica\n",
    "\n",
    "A sintaxe básica de um para loop é:"
   ]
  },
  {
   "cell_type": "code",
   "execution_count": null,
   "id": "31a5668fe8d28403",
   "metadata": {
    "collapsed": false
   },
   "outputs": [],
   "source": [
    "for item in coleção:\n",
    "    declaração"
   ]
  },
  {
   "cell_type": "markdown",
   "id": "5e9a1f8563192754",
   "metadata": {
    "collapsed": false
   },
   "source": [
    "Para percorrer uma lista ou qualquer outra coleção, basta proceder como mostrado no exemplo abaixo."
   ]
  },
  {
   "cell_type": "code",
   "execution_count": null,
   "id": "22c7bdcbac0e1d9a",
   "metadata": {
    "ExecuteTime": {
     "end_time": "2024-03-20T20:01:56.413847Z",
     "start_time": "2024-03-20T20:01:56.411978Z"
    },
    "collapsed": false
   },
   "outputs": [
    {
     "name": "stdout",
     "output_type": "stream",
     "text": [
      "BMW\n",
      "Ferrari\n",
      "McLaren\n"
     ]
    }
   ],
   "source": [
    "carros = ['BMW', 'Ferrari', 'McLaren']\n",
    "for carro in carros:\n",
    "    print(carro)"
   ]
  },
  {
   "cell_type": "markdown",
   "id": "2b83589d369475f3",
   "metadata": {
    "collapsed": false
   },
   "source": [
    "A lista de carros contém três itens. O loop for irá iterar sobre a lista e armazenar cada item na variável do carro, e então executar uma declaração, neste caso imprimir (carro), para imprimir cada carro no console.\n",
    "\n",
    "A função *for* é amplamente utilizada para loops porque lhe dá uma maneira simples de listar números.\n",
    "Este código fará um loop através dos números de 0 a 5 e imprimirá cada um deles."
   ]
  },
  {
   "cell_type": "code",
   "execution_count": null,
   "id": "ddf90eb8ee85e30f",
   "metadata": {
    "ExecuteTime": {
     "end_time": "2024-03-20T20:02:27.558429Z",
     "start_time": "2024-03-20T20:02:27.556365Z"
    },
    "collapsed": false
   },
   "outputs": [
    {
     "name": "stdout",
     "output_type": "stream",
     "text": [
      "0\n",
      "1\n",
      "2\n",
      "3\n",
      "4\n"
     ]
    }
   ],
   "source": [
    "for numero in range(5):\n",
    "    print(numero)"
   ]
  },
  {
   "cell_type": "markdown",
   "id": "efa81a3c2a0fc838",
   "metadata": {
    "collapsed": false
   },
   "source": [
    "Por outro lado, sem a função de range(), faríamos algo assim."
   ]
  },
  {
   "cell_type": "code",
   "execution_count": null,
   "id": "c888f153ca8f7616",
   "metadata": {
    "collapsed": false
   },
   "outputs": [],
   "source": [
    "numeros = [0, 1, 2, 3, 4]\n",
    "for numero in numeros:\n",
    "    print(numero)"
   ]
  },
  {
   "cell_type": "markdown",
   "id": "ff4f8cdac7f27218",
   "metadata": {
    "collapsed": false
   },
   "source": [
    "Você também pode definir um inicio e um fim usando o range().\n",
    "Aqui estamos começando em 5 e parando em 10. \n",
    "\n",
    "*O número que você definir para parar não está incluído.*"
   ]
  },
  {
   "cell_type": "code",
   "execution_count": null,
   "id": "c47a1bc4ad5b4091",
   "metadata": {
    "ExecuteTime": {
     "end_time": "2024-03-20T20:02:54.124303Z",
     "start_time": "2024-03-20T20:02:54.122368Z"
    },
    "collapsed": false
   },
   "outputs": [
    {
     "name": "stdout",
     "output_type": "stream",
     "text": [
      "5\n",
      "6\n",
      "7\n",
      "8\n",
      "9\n"
     ]
    }
   ],
   "source": [
    "for numero in range(5, 10):\n",
    "    print(numero)"
   ]
  },
  {
   "cell_type": "markdown",
   "id": "e290d01ebf7cb6de",
   "metadata": {
    "collapsed": false
   },
   "source": [
    "Finalmente, também é possível definir um passo.\n",
    "Aqui começamos em 10 e aumentamos em 2 até 20, já que 20 é a parada, ela não está incluída."
   ]
  },
  {
   "cell_type": "code",
   "execution_count": null,
   "id": "8ac92627b67f449a",
   "metadata": {
    "ExecuteTime": {
     "end_time": "2024-03-20T20:03:09.357048Z",
     "start_time": "2024-03-20T20:03:09.354950Z"
    },
    "collapsed": false
   },
   "outputs": [
    {
     "name": "stdout",
     "output_type": "stream",
     "text": [
      "10\n",
      "12\n",
      "14\n",
      "16\n",
      "18\n"
     ]
    }
   ],
   "source": [
    "for numero in range(10, 20, 2):\n",
    "    print(numero)"
   ]
  },
  {
   "cell_type": "markdown",
   "id": "e578dc580b552a98",
   "metadata": {
    "collapsed": false
   },
   "source": [
    "##### Bloco else\n",
    "\n",
    "Quando os itens da lista tiverem terminado, o bloco else será chamado."
   ]
  },
  {
   "cell_type": "code",
   "execution_count": null,
   "id": "74c70975f366a643",
   "metadata": {
    "ExecuteTime": {
     "end_time": "2024-03-20T20:03:36.742254Z",
     "start_time": "2024-03-20T20:03:36.740061Z"
    },
    "collapsed": false
   },
   "outputs": [
    {
     "name": "stdout",
     "output_type": "stream",
     "text": [
      "BMW\n",
      "Ferrari\n",
      "McLaren\n",
      "Não há mais carros!\n"
     ]
    }
   ],
   "source": [
    "carros = ['BMW', 'Ferrari', 'McLaren']\n",
    "for carro in carros:\n",
    "    print(carro)\n",
    "else:\n",
    "    print('Não há mais carros!')"
   ]
  },
  {
   "cell_type": "markdown",
   "id": "1cce7099ea24e7a9",
   "metadata": {
    "collapsed": false
   },
   "source": [
    "##### Como sair de um loop for em Python\n",
    "\n",
    "Simplesmente use a palavra-chave break, e o loop irá parar sua execução."
   ]
  },
  {
   "cell_type": "code",
   "execution_count": null,
   "id": "c4feb757d224cbb2",
   "metadata": {
    "ExecuteTime": {
     "end_time": "2024-03-20T20:03:56.566115Z",
     "start_time": "2024-03-20T20:03:56.564118Z"
    },
    "collapsed": false
   },
   "outputs": [
    {
     "name": "stdout",
     "output_type": "stream",
     "text": [
      "BMW\n",
      "Ferrari\n"
     ]
    }
   ],
   "source": [
    "carros = ['BMW', 'Ferrari', 'McLaren']\n",
    "for carro in carros:\n",
    "    print(carro)\n",
    "    if carro == 'Ferrari':\n",
    "        break"
   ]
  },
  {
   "cell_type": "markdown",
   "id": "b9294c26bef1c4e7",
   "metadata": {
    "collapsed": false
   },
   "source": [
    "O loop irá iterar através da lista e imprimir cada carro.\n",
    "Neste caso, após o loop chegar a 'Ferrari', o break é chamado e a 'McLaren' não será impressa.\n",
    "\n",
    "\n",
    "##### Como pular um item em um loop\n",
    "Nesta seção, aprenderemos como *continue* pode fazer isso por você.\n",
    "\n",
    "Invertendo a ordem da declaração *if* e continuar mostrando como ela funciona corretamente.\n",
    "\n",
    "Note que sempre é verificado se 'Ferrari' é o item atual.\n",
    "Se for, 'Ferrari' não será impresso, e o *continue* irá pular para o próximo item 'McLaren'."
   ]
  },
  {
   "cell_type": "code",
   "execution_count": null,
   "id": "51f1f532c3cc980a",
   "metadata": {
    "ExecuteTime": {
     "end_time": "2024-03-20T20:04:11.758676Z",
     "start_time": "2024-03-20T20:04:11.756944Z"
    },
    "collapsed": false
   },
   "outputs": [
    {
     "name": "stdout",
     "output_type": "stream",
     "text": [
      "BMW\n",
      "McLaren\n"
     ]
    }
   ],
   "source": [
    "carros = ['BMW', 'Ferrari', 'McLaren']\n",
    "for carro in carros:\n",
    "    if carro == 'Ferrari':\n",
    "        continue\n",
    "    print(carro)"
   ]
  },
  {
   "cell_type": "markdown",
   "id": "24f92d1344dcef5c",
   "metadata": {
    "collapsed": false
   },
   "source": [
    "#### Loop dentro de Loop: Loops aninhados\n",
    "\n",
    "Às vezes você tem coleções mais complexas, como uma lista de listas.\n",
    "Para iterar sobre estas listas, você precisa aninhar-se para os loops.\n",
    "\n",
    "Neste caso, eu tenho três listas: uma de modelos BMW, outra de modelos Ferrari e finalmente uma com modelos McLaren.\n",
    "A primeira iteração de loop sobre a lista de cada marca, e a segunda irá iterar sobre os modelos de cada marca."
   ]
  },
  {
   "cell_type": "code",
   "execution_count": null,
   "id": "d645921e9b1ebbb6",
   "metadata": {
    "ExecuteTime": {
     "end_time": "2024-03-20T20:05:16.492508Z",
     "start_time": "2024-03-20T20:05:16.490609Z"
    },
    "collapsed": false
   },
   "outputs": [
    {
     "name": "stdout",
     "output_type": "stream",
     "text": [
      "BMW I8\n",
      "BMW X3\n",
      "BMW X1\n",
      "Ferrari 812\n",
      "Ferrari F8\n",
      "Ferrari GTC4\n",
      "McLaren 570S\n",
      "McLaren 570GT\n",
      "McLaren 720S\n"
     ]
    }
   ],
   "source": [
    "modelo_carros = [\n",
    "    ['BMW I8', 'BMW X3',\n",
    "     'BMW X1'],\n",
    "    ['Ferrari 812', 'Ferrari F8',\n",
    "     'Ferrari GTC4'],\n",
    "    ['McLaren 570S', 'McLaren 570GT',\n",
    "     'McLaren 720S']\n",
    "]\n",
    "\n",
    "for marca in modelo_carros:\n",
    "    for modelo in marca:\n",
    "        print(modelo)\n"
   ]
  },
  {
   "cell_type": "markdown",
   "id": "5f0bc230183043ec",
   "metadata": {
    "collapsed": false
   },
   "source": [
    "#### Loop sobre outras estruturas de dados\n",
    "\n",
    "A mesma lógica que se aplica para loops sobre uma lista pode ser estendida às outras estruturas de dados:\n",
    "- tuple\n",
    "- set e\n",
    "- dicionário\n",
    "\n",
    "Como fazer um loop básico sobre cada uma delas:"
   ]
  },
  {
   "cell_type": "code",
   "execution_count": null,
   "id": "d0c70919400684f8",
   "metadata": {
    "ExecuteTime": {
     "end_time": "2024-03-20T20:05:50.849110Z",
     "start_time": "2024-03-20T20:05:50.847047Z"
    },
    "collapsed": false
   },
   "outputs": [
    {
     "name": "stdout",
     "output_type": "stream",
     "text": [
      "Conan\n",
      "Xena\n"
     ]
    }
   ],
   "source": [
    " # loop com uma Tuple\n",
    "pessoas = ('Conan', 'Xena')\n",
    "for pessoa in pessoas:\n",
    "    print(pessoa)"
   ]
  },
  {
   "cell_type": "code",
   "execution_count": null,
   "id": "142f9633c1892846",
   "metadata": {
    "ExecuteTime": {
     "end_time": "2024-03-20T20:05:54.493991Z",
     "start_time": "2024-03-20T20:05:54.492114Z"
    },
    "collapsed": false
   },
   "outputs": [
    {
     "name": "stdout",
     "output_type": "stream",
     "text": [
      "Conan\n",
      "Xena\n"
     ]
    }
   ],
   "source": [
    "# Loop com uma set\n",
    "pessoas = ('Conan', 'Xena')\n",
    "for pessoa in pessoas:\n",
    "    print(pessoa)"
   ]
  },
  {
   "cell_type": "code",
   "execution_count": null,
   "id": "da2e7738780833b9",
   "metadata": {
    "ExecuteTime": {
     "end_time": "2024-03-20T20:05:57.882477Z",
     "start_time": "2024-03-20T20:05:57.880251Z"
    },
    "collapsed": false
   },
   "outputs": [
    {
     "name": "stdout",
     "output_type": "stream",
     "text": [
      "Conan\n",
      "Xena\n",
      "---\n",
      "30\n",
      "25\n"
     ]
    }
   ],
   "source": [
    "# Loop com um Dicionário\n",
    "# Para imprimir as chaves:\n",
    "pessoas = {'Conan': 30, 'Xena': 25}\n",
    "for pessoa in pessoas:\n",
    "    print(pessoa)\n",
    "\n",
    "print(\"---\")\n",
    "\n",
    "# Para imprimir os valores:\n",
    "pessoas = {'Conan': 30, 'Xena': 25}\n",
    "for pessoa in pessoas:\n",
    "    print(pessoas[pessoa])"
   ]
  },
  {
   "cell_type": "markdown",
   "id": "788c1d73a7382326",
   "metadata": {
    "collapsed": false
   },
   "source": [
    "---\n",
    "## Operadores de associação\n",
    "\n",
    "Estes operadores fornecem uma maneira fácil de verificar se um determinado objeto está presente em uma sequência: string, lista, tupla, set e dicionário.\n",
    "\n",
    "Estes operadores são:\n",
    "- **in**: retorna Verdadeiro se o objeto está presente\n",
    "- **not in**: retorna Verdadeiro se o objeto não está presente\n",
    "\n",
    "Vamos ver um programa que mostra como cada um deles é utilizado."
   ]
  },
  {
   "cell_type": "code",
   "execution_count": null,
   "id": "991484d0a02749a0",
   "metadata": {
    "ExecuteTime": {
     "end_time": "2024-03-20T20:07:07.205819Z",
     "start_time": "2024-03-20T20:07:07.203746Z"
    },
    "collapsed": false
   },
   "outputs": [
    {
     "name": "stdout",
     "output_type": "stream",
     "text": [
      "True\n",
      "False\n",
      "True\n"
     ]
    }
   ],
   "source": [
    "lista_numero = [1, 2, 4, 5, 6]\n",
    "print(1 in lista_numero)\n",
    "print(5 not in lista_numero)\n",
    "print(3 not in lista_numero)"
   ]
  },
  {
   "cell_type": "markdown",
   "id": "1ed7a4e6c59b3fff",
   "metadata": {
    "collapsed": false
   },
   "source": [
    "---\n",
    "## Listas\n",
    "\n",
    "Uma lista tem os seus itens ordenados e podemos adicionar o mesmo item quantas vezes quisermos.\n",
    "Um detalhe importante é que as listas são mutáveis!\n",
    "\n",
    "Mutabilidade significa que pode alterar uma lista após a sua criação, adicionando itens, removendo-os, ou mesmo apenas alterando os seus valores.\n",
    "\n",
    "#### Inicialização"
   ]
  },
  {
   "cell_type": "code",
   "execution_count": null,
   "id": "7f331b43c76698c6",
   "metadata": {
    "ExecuteTime": {
     "end_time": "2024-03-20T20:09:37.180989Z",
     "start_time": "2024-03-20T20:09:37.178992Z"
    },
    "collapsed": false
   },
   "outputs": [
    {
     "name": "stdout",
     "output_type": "stream",
     "text": [
      "[]\n"
     ]
    }
   ],
   "source": [
    "# Lista Vazia\n",
    "pessoas = []\n",
    "\n",
    "print(pessoas)"
   ]
  },
  {
   "cell_type": "code",
   "execution_count": null,
   "id": "5db01dea400d2d9f",
   "metadata": {
    "ExecuteTime": {
     "end_time": "2024-03-20T20:09:44.197189Z",
     "start_time": "2024-03-20T20:09:44.195316Z"
    },
    "collapsed": false
   },
   "outputs": [
    {
     "name": "stdout",
     "output_type": "stream",
     "text": [
      "['Bob', 'Mary']\n"
     ]
    }
   ],
   "source": [
    "# Lista com valores iniciais\n",
    "pessoas = ['Bob', 'Mary']\n",
    "\n",
    "print(pessoas)"
   ]
  },
  {
   "cell_type": "markdown",
   "id": "b82a2d095473c5dd",
   "metadata": {
    "collapsed": false
   },
   "source": [
    "#### Adicionando numa lista\n",
    "\n",
    "Para adicionar um item no final de uma lista, utilize o append()."
   ]
  },
  {
   "cell_type": "code",
   "execution_count": null,
   "id": "81c13273311d560f",
   "metadata": {
    "ExecuteTime": {
     "end_time": "2024-03-20T20:10:26.348620Z",
     "start_time": "2024-03-20T20:10:26.346431Z"
    },
    "collapsed": false
   },
   "outputs": [
    {
     "name": "stdout",
     "output_type": "stream",
     "text": [
      "['Bob', 'Mary']\n",
      "['Bob', 'Mary', 'Sarah']\n"
     ]
    }
   ],
   "source": [
    "pessoas = ['Bob', 'Mary']\n",
    "print(pessoas)\n",
    "\n",
    "pessoas.append('Sarah')\n",
    "print(pessoas)"
   ]
  },
  {
   "cell_type": "markdown",
   "id": "5dbaf1549e1ae630",
   "metadata": {
    "collapsed": false
   },
   "source": [
    "Para especificar a posição para o novo item, devemos utilizar o método insert()."
   ]
  },
  {
   "cell_type": "code",
   "execution_count": null,
   "id": "65be767a329a537b",
   "metadata": {
    "ExecuteTime": {
     "end_time": "2024-03-20T20:10:52.096261Z",
     "start_time": "2024-03-20T20:10:52.094186Z"
    },
    "collapsed": false
   },
   "outputs": [
    {
     "name": "stdout",
     "output_type": "stream",
     "text": [
      "['Bob', 'Mary']\n",
      "['Sarah', 'Bob', 'Mary']\n"
     ]
    }
   ],
   "source": [
    "pessoas = ['Bob', 'Mary']\n",
    "print(pessoas)\n",
    "\n",
    "pessoas.insert(0, 'Sarah')\n",
    "print(pessoas)"
   ]
  },
  {
   "cell_type": "markdown",
   "id": "74edda3d7ca61c09",
   "metadata": {
    "collapsed": false
   },
   "source": [
    "#### Atualização numa lista\n",
    "\n",
    "Especifique a posição do item a atualizar e defina o novo valor"
   ]
  },
  {
   "cell_type": "code",
   "execution_count": null,
   "id": "6796ee549022ef21",
   "metadata": {
    "ExecuteTime": {
     "end_time": "2024-03-20T20:11:23.838375Z",
     "start_time": "2024-03-20T20:11:23.836345Z"
    },
    "collapsed": false
   },
   "outputs": [
    {
     "name": "stdout",
     "output_type": "stream",
     "text": [
      "['Bob', 'Mary']\n",
      "['Bob', 'Sarah']\n"
     ]
    }
   ],
   "source": [
    "pessoas = ['Bob', 'Mary']\n",
    "print(pessoas)\n",
    "\n",
    "pessoas[1] = 'Sarah'\n",
    "print(pessoas)"
   ]
  },
  {
   "cell_type": "markdown",
   "id": "fa4d94bfd9a661c7",
   "metadata": {
    "collapsed": false
   },
   "source": [
    "#### Remoção em um lista\n",
    "\n",
    "Utilizar o método remove() para eliminar o item passado como argumento."
   ]
  },
  {
   "cell_type": "code",
   "execution_count": null,
   "id": "d0e526bb44ecbf22",
   "metadata": {
    "ExecuteTime": {
     "end_time": "2024-03-20T20:11:43.652235Z",
     "start_time": "2024-03-20T20:11:43.650044Z"
    },
    "collapsed": false
   },
   "outputs": [
    {
     "name": "stdout",
     "output_type": "stream",
     "text": [
      "['Bob', 'Mary']\n",
      "['Mary']\n"
     ]
    }
   ],
   "source": [
    "pessoas = ['Bob', 'Mary']\n",
    "print(pessoas)\n",
    "\n",
    "pessoas.remove('Bob')\n",
    "print(pessoas)"
   ]
  },
  {
   "cell_type": "markdown",
   "id": "ef76eb7ed3d20940",
   "metadata": {
    "collapsed": false
   },
   "source": [
    "Para apagar toda a lista, utilizar o método clear():"
   ]
  },
  {
   "cell_type": "code",
   "execution_count": null,
   "id": "f7e82f080ad1f733",
   "metadata": {
    "ExecuteTime": {
     "end_time": "2024-03-20T20:11:53.058211Z",
     "start_time": "2024-03-20T20:11:53.055995Z"
    },
    "collapsed": false
   },
   "outputs": [
    {
     "name": "stdout",
     "output_type": "stream",
     "text": [
      "['Bob', 'Mary']\n",
      "[]\n"
     ]
    }
   ],
   "source": [
    "pessoas = ['Bob', 'Mary']\n",
    "print(pessoas)\n",
    "\n",
    "pessoas.clear()\n",
    "print(pessoas)"
   ]
  },
  {
   "cell_type": "markdown",
   "id": "47e8908def7e510e",
   "metadata": {
    "collapsed": false
   },
   "source": [
    "#### Recuperando numa lista\n",
    "\n",
    "Use o índice para referenciar o item.\n",
    "Lembre-se de que o índice começa em 0.\n",
    "Por isso, para recuperar o segundo item, utilize o índice 1."
   ]
  },
  {
   "cell_type": "code",
   "execution_count": null,
   "id": "e72c1b7aae956374",
   "metadata": {
    "ExecuteTime": {
     "end_time": "2024-03-20T20:12:10.943714Z",
     "start_time": "2024-03-20T20:12:10.941698Z"
    },
    "collapsed": false
   },
   "outputs": [
    {
     "name": "stdout",
     "output_type": "stream",
     "text": [
      "Mary\n"
     ]
    }
   ],
   "source": [
    "pessoas = ['Bob', 'Mary']\n",
    "print(pessoas[1])"
   ]
  },
  {
   "cell_type": "markdown",
   "id": "d37c3a99931a8157",
   "metadata": {
    "collapsed": false
   },
   "source": [
    "Verificar se um determinado item já existe numa Lista"
   ]
  },
  {
   "cell_type": "code",
   "execution_count": null,
   "id": "527f131172b3be62",
   "metadata": {
    "ExecuteTime": {
     "end_time": "2024-03-20T20:12:28.262886Z",
     "start_time": "2024-03-20T20:12:28.260766Z"
    },
    "collapsed": false
   },
   "outputs": [
    {
     "name": "stdout",
     "output_type": "stream",
     "text": [
      "Bob existe!\n"
     ]
    }
   ],
   "source": [
    "pessoas = ['Bob', 'Mary']\n",
    "\n",
    "if 'Bob' in pessoas:\n",
    "  print('Bob existe!')\n",
    "else:\n",
    "  print('Não existe Bob!')"
   ]
  },
  {
   "cell_type": "markdown",
   "id": "ceb4312b25240e68",
   "metadata": {
    "collapsed": false
   },
   "source": [
    "---\n",
    "## Tuplas\n",
    "\n",
    "Um tupla é semelhante a uma lista: é ordenada, e permite a repetição de itens.\n",
    "Há apenas uma diferença: um tupla é imutável.\n",
    "\n",
    "A imutabilidade, significa que não se pode mudar uma tupla após a sua criação.\n",
    "Se tentarmos adicionar um item ou atualizar um item, por exemplo, o interpretador Python irá mostrar um erro.\n",
    "\n",
    "#### Inicialização"
   ]
  },
  {
   "cell_type": "code",
   "execution_count": null,
   "id": "1fc2c268a4e81c72",
   "metadata": {
    "ExecuteTime": {
     "end_time": "2024-03-20T20:13:02.929906Z",
     "start_time": "2024-03-20T20:13:02.927846Z"
    },
    "collapsed": false
   },
   "outputs": [
    {
     "name": "stdout",
     "output_type": "stream",
     "text": [
      "()\n"
     ]
    }
   ],
   "source": [
    "# Tupla Vazio\n",
    "pessoas = ()\n",
    "print(pessoas)"
   ]
  },
  {
   "cell_type": "code",
   "execution_count": null,
   "id": "85db6ed51436bb04",
   "metadata": {
    "ExecuteTime": {
     "end_time": "2024-03-20T20:13:09.835749Z",
     "start_time": "2024-03-20T20:13:09.833676Z"
    },
    "collapsed": false
   },
   "outputs": [
    {
     "name": "stdout",
     "output_type": "stream",
     "text": [
      "('Bob', 'Mary')\n"
     ]
    }
   ],
   "source": [
    "# Tupla com valores iniciais\n",
    "pessoas = ('Bob', 'Mary')\n",
    "print(pessoas)"
   ]
  },
  {
   "cell_type": "markdown",
   "id": "5cf2a346c685fb9",
   "metadata": {
    "collapsed": false
   },
   "source": [
    "#### Adicionando numa Tupla\n",
    "\n",
    "As tuplas são imutáveis. Isto significa que, se tentarmos adicionar um item, teremos um erro."
   ]
  },
  {
   "cell_type": "code",
   "execution_count": null,
   "id": "a03d45769f93cbf3",
   "metadata": {
    "ExecuteTime": {
     "end_time": "2024-03-20T20:13:48.794152Z",
     "start_time": "2024-03-20T20:13:48.787223Z"
    },
    "collapsed": false
   },
   "outputs": [
    {
     "ename": "TypeError",
     "evalue": "'tuple' object does not support item assignment",
     "output_type": "error",
     "traceback": [
      "\u001b[0;31m---------------------------------------------------------------------------\u001b[0m",
      "\u001b[0;31mTypeError\u001b[0m                                 Traceback (most recent call last)",
      "Cell \u001b[0;32mIn[70], line 2\u001b[0m\n\u001b[1;32m      1\u001b[0m pessoas \u001b[38;5;241m=\u001b[39m (\u001b[38;5;124m'\u001b[39m\u001b[38;5;124mBob\u001b[39m\u001b[38;5;124m'\u001b[39m, \u001b[38;5;124m'\u001b[39m\u001b[38;5;124mMary\u001b[39m\u001b[38;5;124m'\u001b[39m)\n\u001b[0;32m----> 2\u001b[0m \u001b[43mpessoas\u001b[49m\u001b[43m[\u001b[49m\u001b[38;5;241;43m2\u001b[39;49m\u001b[43m]\u001b[49m \u001b[38;5;241m=\u001b[39m \u001b[38;5;124m'\u001b[39m\u001b[38;5;124mSarah\u001b[39m\u001b[38;5;124m'\u001b[39m\n",
      "\u001b[0;31mTypeError\u001b[0m: 'tuple' object does not support item assignment"
     ]
    }
   ],
   "source": [
    "pessoas = ('Bob', 'Mary')\n",
    "pessoas[2] = 'Sarah'"
   ]
  },
  {
   "cell_type": "markdown",
   "id": "700727bc4c1c388b",
   "metadata": {
    "collapsed": false
   },
   "source": [
    "#### Atualização num Tupla\n",
    "\n",
    "A atualização de um item também devolverá um erro."
   ]
  },
  {
   "cell_type": "code",
   "execution_count": null,
   "id": "ffd140c9a08783d5",
   "metadata": {
    "ExecuteTime": {
     "end_time": "2024-03-20T20:14:13.399956Z",
     "start_time": "2024-03-20T20:14:13.392393Z"
    },
    "collapsed": false
   },
   "outputs": [
    {
     "ename": "TypeError",
     "evalue": "'tuple' object does not support item assignment",
     "output_type": "error",
     "traceback": [
      "\u001b[0;31m---------------------------------------------------------------------------\u001b[0m",
      "\u001b[0;31mTypeError\u001b[0m                                 Traceback (most recent call last)",
      "Cell \u001b[0;32mIn[71], line 2\u001b[0m\n\u001b[1;32m      1\u001b[0m pessoas \u001b[38;5;241m=\u001b[39m (\u001b[38;5;124m'\u001b[39m\u001b[38;5;124mBob\u001b[39m\u001b[38;5;124m'\u001b[39m, \u001b[38;5;124m'\u001b[39m\u001b[38;5;124mMary\u001b[39m\u001b[38;5;124m'\u001b[39m)\n\u001b[0;32m----> 2\u001b[0m \u001b[43mpessoas\u001b[49m\u001b[43m[\u001b[49m\u001b[38;5;241;43m0\u001b[39;49m\u001b[43m]\u001b[49m \u001b[38;5;241m=\u001b[39m \u001b[38;5;124m'\u001b[39m\u001b[38;5;124mSarah\u001b[39m\u001b[38;5;124m'\u001b[39m\n",
      "\u001b[0;31mTypeError\u001b[0m: 'tuple' object does not support item assignment"
     ]
    }
   ],
   "source": [
    "pessoas = ('Bob', 'Mary')\n",
    "pessoas[0] = 'Sarah'"
   ]
  },
  {
   "cell_type": "markdown",
   "id": "ec1f6260950d6887",
   "metadata": {
    "collapsed": false
   },
   "source": [
    "Mas há um truque: podemos converter a tupla numa lista, alterar o item, e depois convertê-la de volta para uma Tupla."
   ]
  },
  {
   "cell_type": "code",
   "execution_count": null,
   "id": "e7c6c3eccc2782b8",
   "metadata": {
    "ExecuteTime": {
     "end_time": "2024-03-20T20:14:43.341656Z",
     "start_time": "2024-03-20T20:14:43.339382Z"
    },
    "collapsed": false
   },
   "outputs": [
    {
     "name": "stdout",
     "output_type": "stream",
     "text": [
      "('Bob', 'Sarah')\n"
     ]
    }
   ],
   "source": [
    "pessoas = ('Bob', 'Mary')\n",
    "lista_de_pessoas = list(pessoas)\n",
    "lista_de_pessoas[1] = 'Sarah'\n",
    "pessoas = tuple(lista_de_pessoas)\n",
    "print(pessoas)"
   ]
  },
  {
   "cell_type": "markdown",
   "id": "2384057aa3dd233f",
   "metadata": {
    "collapsed": false
   },
   "source": [
    "#### Remoção em uma Tupla\n",
    "\n",
    "Pela mesma razão que não se pode adicionar um item, também não se pode apagar um item, uma vez que são imutáveis."
   ]
  },
  {
   "cell_type": "code",
   "execution_count": null,
   "id": "7e2e8c9c4ed6e050",
   "metadata": {
    "ExecuteTime": {
     "end_time": "2024-03-20T20:15:22.309174Z",
     "start_time": "2024-03-20T20:15:22.301800Z"
    },
    "collapsed": false
   },
   "outputs": [
    {
     "ename": "AttributeError",
     "evalue": "'tuple' object has no attribute 'remove'",
     "output_type": "error",
     "traceback": [
      "\u001b[0;31m---------------------------------------------------------------------------\u001b[0m",
      "\u001b[0;31mAttributeError\u001b[0m                            Traceback (most recent call last)",
      "Cell \u001b[0;32mIn[73], line 2\u001b[0m\n\u001b[1;32m      1\u001b[0m pessoas \u001b[38;5;241m=\u001b[39m (\u001b[38;5;124m'\u001b[39m\u001b[38;5;124mBob\u001b[39m\u001b[38;5;124m'\u001b[39m, \u001b[38;5;124m'\u001b[39m\u001b[38;5;124mMary\u001b[39m\u001b[38;5;124m'\u001b[39m)\n\u001b[0;32m----> 2\u001b[0m \u001b[43mpessoas\u001b[49m\u001b[38;5;241;43m.\u001b[39;49m\u001b[43mremove\u001b[49m(\u001b[38;5;124m'\u001b[39m\u001b[38;5;124mBob\u001b[39m\u001b[38;5;124m'\u001b[39m)\n",
      "\u001b[0;31mAttributeError\u001b[0m: 'tuple' object has no attribute 'remove'"
     ]
    }
   ],
   "source": [
    "pessoas = ('Bob', 'Mary')\n",
    "pessoas.remove('Bob')"
   ]
  },
  {
   "cell_type": "markdown",
   "id": "16ce4912e61dc61",
   "metadata": {
    "collapsed": false
   },
   "source": [
    "#### Recuperando num Tupla\n",
    "\n",
    "Use o índice para referenciar o item."
   ]
  },
  {
   "cell_type": "code",
   "execution_count": null,
   "id": "d5e20995f062c37c",
   "metadata": {
    "ExecuteTime": {
     "end_time": "2024-03-20T20:17:27.629459Z",
     "start_time": "2024-03-20T20:17:27.627317Z"
    },
    "collapsed": false
   },
   "outputs": [
    {
     "name": "stdout",
     "output_type": "stream",
     "text": [
      "Mary\n"
     ]
    }
   ],
   "source": [
    "pessoas = ('Bob', 'Mary')\n",
    "print(pessoas[1])"
   ]
  },
  {
   "cell_type": "markdown",
   "id": "327e0ee25cd76088",
   "metadata": {
    "collapsed": false
   },
   "source": [
    "#### Verificar se um determinado item já existe num Tupla"
   ]
  },
  {
   "cell_type": "code",
   "execution_count": null,
   "id": "3109361f58032ad3",
   "metadata": {
    "ExecuteTime": {
     "end_time": "2024-03-20T20:17:33.799762Z",
     "start_time": "2024-03-20T20:17:33.797726Z"
    },
    "collapsed": false
   },
   "outputs": [
    {
     "name": "stdout",
     "output_type": "stream",
     "text": [
      "Bob existe!\n"
     ]
    }
   ],
   "source": [
    "pessoas = ('Bob', 'Mary')\n",
    "\n",
    "if 'Bob' in pessoas:\n",
    "  print('Bob existe!')\n",
    "else:\n",
    "  print('Não existe Bob!')"
   ]
  },
  {
   "cell_type": "markdown",
   "id": "b50c966f1e685aca",
   "metadata": {
    "collapsed": false
   },
   "source": [
    "---\n",
    "## Sets\n",
    "\n",
    "Os Sets não garantem a ordem dos itens e não são indexados.\n",
    "Um ponto chave ao utilizar sets: **não permitem a repetição de um item.**\n",
    "\n",
    "#### Inicialização"
   ]
  },
  {
   "cell_type": "code",
   "execution_count": null,
   "id": "4162d28478bb90b6",
   "metadata": {
    "ExecuteTime": {
     "end_time": "2024-03-20T20:18:25.509168Z",
     "start_time": "2024-03-20T20:18:25.507285Z"
    },
    "collapsed": false
   },
   "outputs": [
    {
     "name": "stdout",
     "output_type": "stream",
     "text": [
      "set()\n"
     ]
    }
   ],
   "source": [
    "# Set Vazio\n",
    "pessoas = set()\n",
    "print(pessoas)"
   ]
  },
  {
   "cell_type": "code",
   "execution_count": null,
   "id": "a05c4565491ec251",
   "metadata": {
    "ExecuteTime": {
     "end_time": "2024-03-20T20:18:47.918721Z",
     "start_time": "2024-03-20T20:18:47.917001Z"
    },
    "collapsed": false
   },
   "outputs": [
    {
     "name": "stdout",
     "output_type": "stream",
     "text": [
      "{'Bob', 'Mary'}\n"
     ]
    }
   ],
   "source": [
    "# Set com valores iniciais\n",
    "pessoas = {'Bob', 'Mary'}\n",
    "print(pessoas)"
   ]
  },
  {
   "cell_type": "markdown",
   "id": "bb11450ff875ed80",
   "metadata": {
    "collapsed": false
   },
   "source": [
    "#### Adicionando num Set\n",
    "\n",
    "Use o método add() para adicionar um item."
   ]
  },
  {
   "cell_type": "code",
   "execution_count": null,
   "id": "f9e07a72738a14e2",
   "metadata": {
    "ExecuteTime": {
     "end_time": "2024-03-20T20:19:01.315636Z",
     "start_time": "2024-03-20T20:19:01.313558Z"
    },
    "collapsed": false
   },
   "outputs": [
    {
     "name": "stdout",
     "output_type": "stream",
     "text": [
      "{'Bob', 'Sarah', 'Mary'}\n"
     ]
    }
   ],
   "source": [
    "pessoas = {'Bob', 'Mary'}\n",
    "pessoas.add('Sarah')\n",
    "print(pessoas)"
   ]
  },
  {
   "cell_type": "markdown",
   "id": "ff5cdf6987a3b96c",
   "metadata": {
    "collapsed": false
   },
   "source": [
    "Utilizar o método update() para adicionar vários itens ao mesmo tempo."
   ]
  },
  {
   "cell_type": "code",
   "execution_count": null,
   "id": "406f2dcc10114309",
   "metadata": {
    "ExecuteTime": {
     "end_time": "2024-03-20T20:19:42.530331Z",
     "start_time": "2024-03-20T20:19:42.528375Z"
    },
    "collapsed": false
   },
   "outputs": [
    {
     "name": "stdout",
     "output_type": "stream",
     "text": [
      "{'Carol', 'Susan', 'Bob', 'Mary'}\n"
     ]
    }
   ],
   "source": [
    "pessoas = {'Bob', 'Mary'}\n",
    "pessoas.update(['Carol', 'Susan'])\n",
    "print(pessoas)"
   ]
  },
  {
   "cell_type": "markdown",
   "id": "6ed0b53ec7065260",
   "metadata": {
    "collapsed": false
   },
   "source": [
    "Lembre-se, os sets não permitem a repetição, por isso se voltar a acrescentar 'Mary', nada muda."
   ]
  },
  {
   "cell_type": "code",
   "execution_count": null,
   "id": "fb46707e7bdb2781",
   "metadata": {
    "ExecuteTime": {
     "end_time": "2024-03-20T20:20:00.540209Z",
     "start_time": "2024-03-20T20:20:00.538078Z"
    },
    "collapsed": false
   },
   "outputs": [
    {
     "name": "stdout",
     "output_type": "stream",
     "text": [
      "{'Bob', 'Mary'}\n"
     ]
    }
   ],
   "source": [
    "pessoas = {'Bob', 'Mary'}\n",
    "pessoas.add('Mary')\n",
    "print(pessoas)"
   ]
  },
  {
   "cell_type": "markdown",
   "id": "45f62c9bc71d2e32",
   "metadata": {
    "collapsed": false
   },
   "source": [
    "#### Atualização em um Set\n",
    "\n",
    "Os itens de um set não são imutáveis. É possível adicionar ou apagar um item.\n",
    "\n",
    "#### Remoção em um Set"
   ]
  },
  {
   "cell_type": "code",
   "execution_count": null,
   "id": "e1d1522e02bf047a",
   "metadata": {
    "ExecuteTime": {
     "end_time": "2024-03-20T20:20:24.538421Z",
     "start_time": "2024-03-20T20:20:24.536271Z"
    },
    "collapsed": false
   },
   "outputs": [
    {
     "name": "stdout",
     "output_type": "stream",
     "text": [
      "{'Mary'}\n"
     ]
    }
   ],
   "source": [
    "pessoas = {'Bob', 'Mary'}\n",
    "pessoas.remove('Bob')\n",
    "print(pessoas)"
   ]
  },
  {
   "cell_type": "code",
   "execution_count": null,
   "id": "820b4a808fb1c516",
   "metadata": {
    "ExecuteTime": {
     "end_time": "2024-03-20T20:20:27.925702Z",
     "start_time": "2024-03-20T20:20:27.923754Z"
    },
    "collapsed": false
   },
   "outputs": [
    {
     "name": "stdout",
     "output_type": "stream",
     "text": [
      "set()\n"
     ]
    }
   ],
   "source": [
    "# Para apagar todo o set:\n",
    "pessoas = {'Bob', 'Mary'}\n",
    "pessoas.clear()\n",
    "print(pessoas)"
   ]
  },
  {
   "cell_type": "markdown",
   "id": "b0e2f91f3a2b6f86",
   "metadata": {
    "collapsed": false
   },
   "source": [
    "#### Verificar se um determinado item já existe em um set:"
   ]
  },
  {
   "cell_type": "code",
   "execution_count": null,
   "id": "d9c1db134c4d94d2",
   "metadata": {
    "ExecuteTime": {
     "end_time": "2024-03-20T20:20:33.155972Z",
     "start_time": "2024-03-20T20:20:33.153962Z"
    },
    "collapsed": false
   },
   "outputs": [
    {
     "name": "stdout",
     "output_type": "stream",
     "text": [
      "Bob existe!\n"
     ]
    }
   ],
   "source": [
    "pessoas = {'Bob', 'Mary'}\n",
    "\n",
    "if 'Bob' in pessoas:\n",
    "  print('Bob existe!')\n",
    "else:\n",
    "  print('Não existe Bob!')"
   ]
  },
  {
   "cell_type": "markdown",
   "id": "4c8874421794056b",
   "metadata": {
    "collapsed": false
   },
   "source": [
    "---\n",
    "## Dicionários\n",
    "\n",
    "O dicionário não garante a ordem dos elementos e é mutável.\n",
    "\n",
    "Uma característica importante dos dicionários é que podemos definir as suas chaves de acesso personalizadas para cada elemento.\n",
    "\n",
    "#### Inicialização de um Dicionário"
   ]
  },
  {
   "cell_type": "code",
   "execution_count": null,
   "id": "c08b1d3d18293ce8",
   "metadata": {
    "collapsed": false
   },
   "outputs": [],
   "source": [
    "# Dicionário Vazio\n",
    "pessoas = {}\n",
    "print(pessoas)"
   ]
  },
  {
   "cell_type": "code",
   "execution_count": null,
   "id": "107a31d92406503f",
   "metadata": {
    "ExecuteTime": {
     "end_time": "2024-03-20T20:21:30.473820Z",
     "start_time": "2024-03-20T20:21:30.471690Z"
    },
    "collapsed": false
   },
   "outputs": [
    {
     "name": "stdout",
     "output_type": "stream",
     "text": [
      "{'Bob': 30, 'Mary': 25}\n"
     ]
    }
   ],
   "source": [
    "# Dicionário com valores iniciais\n",
    "pessoas = {'Bob':30, 'Mary':25}\n",
    "print(pessoas)"
   ]
  },
  {
   "cell_type": "markdown",
   "id": "667deff84547c4b3",
   "metadata": {
    "collapsed": false
   },
   "source": [
    "#### Adicionando em um Dicionário\n",
    "\n",
    "Se a chave ainda não existe, é anexada ao dicionário."
   ]
  },
  {
   "cell_type": "code",
   "execution_count": null,
   "id": "5dfd9d11355431bc",
   "metadata": {
    "ExecuteTime": {
     "end_time": "2024-03-20T20:21:55.036463Z",
     "start_time": "2024-03-20T20:21:55.034473Z"
    },
    "collapsed": false
   },
   "outputs": [
    {
     "name": "stdout",
     "output_type": "stream",
     "text": [
      "{'Bob': 30, 'Mary': 25, 'Sarah': 32}\n"
     ]
    }
   ],
   "source": [
    "pessoas = {'Bob':30, 'Mary':25}\n",
    "pessoas['Sarah'] = 32\n",
    "print(pessoas)"
   ]
  },
  {
   "cell_type": "markdown",
   "id": "55632ede31925a",
   "metadata": {
    "collapsed": false
   },
   "source": [
    "#### Atualização de um Dicionário\n",
    "\n",
    "Se a chave já existir, o valor é apenas atualizado."
   ]
  },
  {
   "cell_type": "code",
   "execution_count": null,
   "id": "81f0776f8b970836",
   "metadata": {
    "ExecuteTime": {
     "end_time": "2024-03-20T20:22:28.896660Z",
     "start_time": "2024-03-20T20:22:28.894474Z"
    },
    "collapsed": false
   },
   "outputs": [
    {
     "name": "stdout",
     "output_type": "stream",
     "text": [
      "{'Bob': 28, 'Mary': 25}\n"
     ]
    }
   ],
   "source": [
    "pessoas = {'Bob':30, 'Mary':25}\n",
    "pessoas['Bob'] = 28\n",
    "print(pessoas)"
   ]
  },
  {
   "cell_type": "markdown",
   "id": "b26e30d29906aac6",
   "metadata": {
    "collapsed": false
   },
   "source": [
    "Repare que o código é praticamente o mesmo.\n",
    "\n",
    "#### Remoção em um Dicionário\n",
    "\n",
    "Para remover Bob do dicionário:"
   ]
  },
  {
   "cell_type": "code",
   "execution_count": null,
   "id": "b63c1d852cdaf06a",
   "metadata": {
    "ExecuteTime": {
     "end_time": "2024-03-20T20:22:41.093212Z",
     "start_time": "2024-03-20T20:22:41.091318Z"
    },
    "collapsed": false
   },
   "outputs": [
    {
     "name": "stdout",
     "output_type": "stream",
     "text": [
      "{'Mary': 25}\n"
     ]
    }
   ],
   "source": [
    "pessoas = {'Bob':30, 'Mary':25}\n",
    "pessoas.pop('Bob')\n",
    "print(pessoas)"
   ]
  },
  {
   "cell_type": "markdown",
   "id": "5a14dedb07f9460f",
   "metadata": {
    "collapsed": false
   },
   "source": [
    "Clear() para apagar todo o dicionário:"
   ]
  },
  {
   "cell_type": "code",
   "execution_count": null,
   "id": "2c7e9edb9db5b3d8",
   "metadata": {
    "ExecuteTime": {
     "end_time": "2024-03-20T20:22:47.945794Z",
     "start_time": "2024-03-20T20:22:47.943836Z"
    },
    "collapsed": false
   },
   "outputs": [
    {
     "name": "stdout",
     "output_type": "stream",
     "text": [
      "{}\n"
     ]
    }
   ],
   "source": [
    "pessoas = {'Bob':30, 'Mary':25}\n",
    "pessoas.clear()\n",
    "print(pessoas)"
   ]
  },
  {
   "cell_type": "markdown",
   "id": "a876a95a5125a87e",
   "metadata": {
    "collapsed": false
   },
   "source": [
    "#### Recuperação de um valor no Dicionário"
   ]
  },
  {
   "cell_type": "code",
   "execution_count": null,
   "id": "a070728cd38d0c59",
   "metadata": {
    "ExecuteTime": {
     "end_time": "2024-03-20T20:23:01.918464Z",
     "start_time": "2024-03-20T20:23:01.916275Z"
    },
    "collapsed": false
   },
   "outputs": [
    {
     "name": "stdout",
     "output_type": "stream",
     "text": [
      "30\n"
     ]
    }
   ],
   "source": [
    "pessoas = {'Bob':30, 'Mary':25}\n",
    "bob_age = pessoas['Bob']\n",
    "print(bob_age)"
   ]
  },
  {
   "cell_type": "markdown",
   "id": "d763f07e079b5ac8",
   "metadata": {
    "collapsed": false
   },
   "source": [
    "#### Verificar se uma determinada chave já existe num Dicionário"
   ]
  },
  {
   "cell_type": "code",
   "execution_count": null,
   "id": "a312920f6b64ba4",
   "metadata": {
    "ExecuteTime": {
     "end_time": "2024-03-20T20:23:09.595329Z",
     "start_time": "2024-03-20T20:23:09.593116Z"
    },
    "collapsed": false
   },
   "outputs": [
    {
     "name": "stdout",
     "output_type": "stream",
     "text": [
      "Bob existe!\n"
     ]
    }
   ],
   "source": [
    "pessoas = {'Bob':30, 'Mary':25}\n",
    "if 'Bob' in pessoas:\n",
    "  print('Bob existe!')\n",
    "else:\n",
    "  print('Não existe Bob!')"
   ]
  },
  {
   "cell_type": "markdown",
   "id": "4835b58912cc5b32",
   "metadata": {
    "collapsed": false
   },
   "source": [
    "---\n",
    "## Funções\n",
    "\n",
    "À medida que o código cresce, a complexidade também cresce. E as funções ajudam a organizar o código.\n",
    "As funções são uma maneira útil de criar blocos de código que você pode reutilizar.\n",
    "\n",
    "#### Definição e Chamada\n",
    "Em Python use a palavra-chave def para definir uma função.\n",
    "\n",
    "Deve-se dar um nome e usar parênteses para informar 0 ou mais argumentos.\n",
    "Na linha após o início da declaração, lembre-se de recuar o bloco de código.\n",
    "\n",
    "Aqui está um exemplo de uma função chamada minha_primeira_funcao() que imprime apenas uma frase 'Minha primeira função!'\n",
    "\n",
    "Para chamar a função basta usar seu nome, conforme definido."
   ]
  },
  {
   "cell_type": "code",
   "execution_count": null,
   "id": "2b869199bf01355a",
   "metadata": {
    "ExecuteTime": {
     "end_time": "2024-03-20T20:25:29.441575Z",
     "start_time": "2024-03-20T20:25:29.439449Z"
    },
    "collapsed": false
   },
   "outputs": [
    {
     "name": "stdout",
     "output_type": "stream",
     "text": [
      "Minha primeira função!\n"
     ]
    }
   ],
   "source": [
    "def minha_primeira_funcao():\n",
    "    print('Minha primeira função!')\n",
    "\n",
    "minha_primeira_funcao()"
   ]
  },
  {
   "cell_type": "markdown",
   "id": "2c4d58005abe8c5d",
   "metadata": {
    "collapsed": false
   },
   "source": [
    "#### Retornar um valor\n",
    "\n",
    "Use a palavra-chave return para retornar um valor da função.\n",
    "\n",
    "Neste exemplo abaixo, a função segunda_funcao() retorna a string 'Minha segunda função!'\n",
    "Note que print() é uma função embutida e nossa função é chamada de dentro dela.\n",
    "A string retornada pela second_function() é passada como um argumento para a função print()."
   ]
  },
  {
   "cell_type": "code",
   "execution_count": null,
   "id": "4d965082b3e97be3",
   "metadata": {
    "ExecuteTime": {
     "end_time": "2024-03-20T20:25:53.145591Z",
     "start_time": "2024-03-20T20:25:53.143713Z"
    },
    "collapsed": false
   },
   "outputs": [
    {
     "name": "stdout",
     "output_type": "stream",
     "text": [
      "Minha segunda função!\n"
     ]
    }
   ],
   "source": [
    "def segunda_funcao():\n",
    "    return 'Minha segunda função!'\n",
    "\n",
    "print(segunda_funcao())\n"
   ]
  },
  {
   "cell_type": "markdown",
   "id": "277766587e44a14f",
   "metadata": {
    "collapsed": false
   },
   "source": [
    "#### Retornar múltiplos valores\n",
    "\n",
    "Funções também podem retornar múltiplos valores ao mesmo tempo.\n",
    "\n",
    "retorna_numeros() retorna dois valores simultaneamente."
   ]
  },
  {
   "cell_type": "code",
   "execution_count": null,
   "id": "ea716e7b90327af3",
   "metadata": {
    "ExecuteTime": {
     "end_time": "2024-03-20T20:26:24.210152Z",
     "start_time": "2024-03-20T20:26:24.208092Z"
    },
    "collapsed": false
   },
   "outputs": [
    {
     "name": "stdout",
     "output_type": "stream",
     "text": [
      "(10, 2)\n"
     ]
    }
   ],
   "source": [
    "def retorna_numeros():\n",
    "    return 10, 2\n",
    "\n",
    "print(retorna_numeros())"
   ]
  },
  {
   "cell_type": "markdown",
   "id": "5a3079ffaaacb910",
   "metadata": {
    "collapsed": false
   },
   "source": [
    "#### Argumentos\n",
    "\n",
    "Você pode definir parâmetros entre os parênteses.\n",
    "Ao chamar uma função com parâmetros você tem que passar argumentos de acordo com os parâmetros definidos.\n",
    "\n",
    "Os exemplos anteriores não tinham parâmetros, portanto, não havia necessidade de argumentos.\n",
    "Os parênteses permaneceram vazios quando as funções foram chamadas.\n",
    "\n",
    "#### Um argumento\n",
    "\n",
    "Para especificar um parâmetro, basta defini-lo dentro dos parênteses.\n",
    "Neste exemplo, a função meu_numero espera um número como argumento definido pelo número do parâmetro.\n",
    "O valor do argumento é então acessível dentro da função a ser utilizada."
   ]
  },
  {
   "cell_type": "code",
   "execution_count": null,
   "id": "919bdc5a271fc3be",
   "metadata": {
    "ExecuteTime": {
     "end_time": "2024-03-20T20:26:49.487531Z",
     "start_time": "2024-03-20T20:26:49.485386Z"
    },
    "collapsed": false
   },
   "outputs": [
    {
     "name": "stdout",
     "output_type": "stream",
     "text": [
      "Meu número é: 10\n"
     ]
    }
   ],
   "source": [
    "def meu_numero(num):\n",
    "    return 'Meu número é: ' + str(num)\n",
    "\n",
    "print(meu_numero(10))"
   ]
  },
  {
   "cell_type": "markdown",
   "id": "7b7437bcf28b2081",
   "metadata": {
    "collapsed": false
   },
   "source": [
    "#### Dois ou mais argumentos\n",
    "\n",
    "Para definir mais parâmetros, basta usar uma vírgula para separá-los.\n",
    "\n",
    "Aqui temos uma função adicionar que acrescenta dois números.\n",
    "Ela espera dois argumentos definidos por primeiro_numero e segundo_numero.\n",
    "Os argumentos são adicionados pelo operador + e o resultado é então retornado pelo return."
   ]
  },
  {
   "cell_type": "code",
   "execution_count": null,
   "id": "6c088c558a9bec5e",
   "metadata": {
    "ExecuteTime": {
     "end_time": "2024-03-20T20:27:12.549029Z",
     "start_time": "2024-03-20T20:27:12.546759Z"
    },
    "collapsed": false
   },
   "outputs": [
    {
     "name": "stdout",
     "output_type": "stream",
     "text": [
      "12\n"
     ]
    }
   ],
   "source": [
    "def adicionar(primeiro_numero, segundo_numero):\n",
    "    return primeiro_numero + segundo_numero\n",
    "\n",
    "print(adicionar(10, 2))"
   ]
  },
  {
   "cell_type": "markdown",
   "id": "211a481197de00ba",
   "metadata": {
    "collapsed": false
   },
   "source": [
    "Este exemplo é muito parecido com o último. A única diferença é que temos 3 parâmetros em vez de 2."
   ]
  },
  {
   "cell_type": "code",
   "execution_count": null,
   "id": "909b138935ce9afc",
   "metadata": {
    "ExecuteTime": {
     "end_time": "2024-03-20T20:27:21.789991Z",
     "start_time": "2024-03-20T20:27:21.787993Z"
    },
    "collapsed": false
   },
   "outputs": [
    {
     "name": "stdout",
     "output_type": "stream",
     "text": [
      "15\n"
     ]
    }
   ],
   "source": [
    "def adicionar(primeiro_numero, segundo_numero, terceiro_numero):\n",
    "    return primeiro_numero + segundo_numero + terceiro_numero\n",
    "\n",
    "print(adicionar(10, 2, 3))"
   ]
  },
  {
   "cell_type": "markdown",
   "id": "fd2e9e8a00a2bc1e",
   "metadata": {
    "collapsed": false
   },
   "source": [
    "Esta lógica de definir parâmetros e passar argumentos é a mesma para qualquer número de parâmetros.\n",
    "\n",
    "É importante ressaltar que os argumentos devem ser passados na mesma ordem em que os parâmetros são definidos.\n",
    "\n",
    "#### Valor padrão.\n",
    "\n",
    "Você pode definir um valor padrão para um parâmetro se nenhum argumento for dado usando o operador = e um valor de escolha.\n",
    "Nesta função, se nenhum argumento for dado, o número 30 é assumido como o valor esperado por padrão."
   ]
  },
  {
   "cell_type": "code",
   "execution_count": null,
   "id": "f77c170dad40dad5",
   "metadata": {
    "ExecuteTime": {
     "end_time": "2024-03-20T20:27:55.706876Z",
     "start_time": "2024-03-20T20:27:55.704566Z"
    },
    "collapsed": false
   },
   "outputs": [
    {
     "name": "stdout",
     "output_type": "stream",
     "text": [
      "Meu número é: 10\n",
      "Meu número é: 30\n"
     ]
    }
   ],
   "source": [
    "def meu_numero(meu_numero=30):\n",
    "    return 'Meu número é: ' + str(meu_numero)\n",
    "\n",
    "print(meu_numero(10))\n",
    "print(meu_numero())"
   ]
  },
  {
   "cell_type": "markdown",
   "id": "2676b305e40ef8f7",
   "metadata": {
    "collapsed": false
   },
   "source": [
    "#### Palavras-chave ou Argumentos nomeados\n",
    "\n",
    "Quando se chama uma função, a ordem dos argumentos tem que corresponder à ordem dos parâmetros.\n",
    "A alternativa é se você usar a palavra-chave ou argumentos nomeados.\n",
    "\n",
    "Ajuste os argumentos para seus respectivos parâmetros diretamente, usando o nome dos parâmetros e os operadores =.\n",
    "Este exemplo inverte os argumentos, mas a função funciona como esperado porque informamos qual valor vai para qual parâmetro pelo nome."
   ]
  },
  {
   "cell_type": "code",
   "execution_count": null,
   "id": "afbd7fe6b5648940",
   "metadata": {
    "ExecuteTime": {
     "end_time": "2024-03-20T20:29:16.890227Z",
     "start_time": "2024-03-20T20:29:16.887863Z"
    },
    "collapsed": false
   },
   "outputs": [
    {
     "name": "stdout",
     "output_type": "stream",
     "text": [
      "Os números são: 10 e 30\n"
     ]
    }
   ],
   "source": [
    "def meus_numeros(primeiro_numero, segundo_numero):\n",
    "    return 'Os números são: ' + str(primeiro_numero) + ' e ' + str(segundo_numero)\n",
    "\n",
    "print(meus_numeros(segundo_numero=30, primeiro_numero=10))"
   ]
  },
  {
   "cell_type": "markdown",
   "id": "ad1c3543a21eeacc",
   "metadata": {
    "collapsed": false
   },
   "source": [
    "#### Qualquer número de argumentos: *args \n",
    "\n",
    "Se você não quiser especificar o número de parâmetros, basta usar o * antes do nome do parâmetro. \n",
    "Em seguida, a função levará tantos argumentos quantos forem necessários.\n",
    "\n",
    "O nome do parâmetro pode ser qualquer coisa como *numbers, mas existe uma convenção em Python para usar *args para esta definição de um número variável de argumentos."
   ]
  },
  {
   "cell_type": "code",
   "execution_count": null,
   "id": "c0412d18a0cd1f94",
   "metadata": {
    "ExecuteTime": {
     "end_time": "2024-03-20T20:30:13.163086Z",
     "start_time": "2024-03-20T20:30:13.160696Z"
    },
    "collapsed": false
   },
   "outputs": [
    {
     "name": "stdout",
     "output_type": "stream",
     "text": [
      "10\n",
      "2\n",
      "3\n",
      "4\n"
     ]
    }
   ],
   "source": [
    "def meus_numeros(*args):\n",
    "    for numero in args:\n",
    "        print(numero)\n",
    "\n",
    "meus_numeros(10, 2, 3)"
   ]
  },
  {
   "cell_type": "markdown",
   "id": "cd806f3419dbe16",
   "metadata": {
    "collapsed": false
   },
   "source": [
    "#### Qualquer número de argumentos de palavra-chave ou nome: **kwargs\n",
    "\n",
    "Similar a *args, podemos usar **kwargs para passar tantos argumentos de palavras-chave quantos quisermos, desde que usemos **.\n",
    "\n",
    "Novamente, o nome poderia ser qualquer coisa como **numbers, mas **kwargs é uma convenção."
   ]
  },
  {
   "cell_type": "code",
   "execution_count": null,
   "id": "fa4eaa07e2d5221a",
   "metadata": {
    "ExecuteTime": {
     "end_time": "2024-03-20T20:30:50.734810Z",
     "start_time": "2024-03-20T20:30:50.732236Z"
    },
    "collapsed": false
   },
   "outputs": [
    {
     "name": "stdout",
     "output_type": "stream",
     "text": [
      "primeiro_numero\n",
      "30\n",
      "segundo_numero\n",
      "10\n"
     ]
    }
   ],
   "source": [
    "def meus_numeros(**kwargs):\n",
    "    for chave, valor in kwargs.items():\n",
    "        print(chave)\n",
    "        print(valor)\n",
    "\n",
    "meus_numeros(primeiro_numero=30, segundo_numero=10)"
   ]
  },
  {
   "cell_type": "markdown",
   "id": "c8c3fe32fe9c8cb4",
   "metadata": {
    "collapsed": false
   },
   "source": [
    "#### Outros tipos como argumentos\n",
    "\n",
    "Os exemplos anteriores usavam principalmente números, mas você pode passar qualquer tipo como argumento e eles serão tratados como tal dentro da função.\n",
    "\n",
    "Este exemplo toma como argumentos as strings."
   ]
  },
  {
   "cell_type": "code",
   "execution_count": null,
   "id": "db593f257540a879",
   "metadata": {
    "ExecuteTime": {
     "end_time": "2024-03-20T20:31:22.928593Z",
     "start_time": "2024-03-20T20:31:22.926576Z"
    },
    "collapsed": false
   },
   "outputs": [
    {
     "name": "stdout",
     "output_type": "stream",
     "text": [
      "Eu gosto de futebol\n",
      "Eu gosto de nadar\n"
     ]
    }
   ],
   "source": [
    "def meu_esporte_favorito(sport):\n",
    "    print('Eu gosto de ' + sport)\n",
    "\n",
    "meu_esporte_favorito('futebol')\n",
    "meu_esporte_favorito('nadar')"
   ]
  },
  {
   "cell_type": "markdown",
   "id": "6636e911efdb5dc3",
   "metadata": {
    "collapsed": false
   },
   "source": [
    "Esta função toma como argumento uma lista."
   ]
  },
  {
   "cell_type": "code",
   "execution_count": null,
   "id": "da82d80e0efcf0c0",
   "metadata": {
    "ExecuteTime": {
     "end_time": "2024-03-20T20:31:33.409947Z",
     "start_time": "2024-03-20T20:31:33.408046Z"
    },
    "collapsed": false
   },
   "outputs": [
    {
     "name": "stdout",
     "output_type": "stream",
     "text": [
      "30\n",
      "10\n",
      "64\n",
      "92\n",
      "105\n"
     ]
    }
   ],
   "source": [
    "def meus_numeros(numeros):\n",
    "    for numero in numeros:\n",
    "        print(numero)\n",
    "\n",
    "meus_numeros([30, 10, 64, 92, 105])"
   ]
  },
  {
   "cell_type": "markdown",
   "id": "93ef9c8cfa25a54f",
   "metadata": {
    "collapsed": false
   },
   "source": [
    "---\n",
    "## Escopo\n",
    "\n",
    "O local onde uma variável é criada define sua disponibilidade para ser acessada e manipulada pelo resto do código.\n",
    "Este é conhecido como escopo.\n",
    "\n",
    "Há dois tipos de escopo: local e global.\n",
    "\n",
    "\n",
    "#### Escopo global\n",
    "\n",
    "Um escopo global permite que você use a variável em qualquer lugar em seu programa.\n",
    "Se sua variável estiver fora de uma função, ela tem escopo global por padrão."
   ]
  },
  {
   "cell_type": "code",
   "execution_count": null,
   "id": "b7f788810329668",
   "metadata": {
    "ExecuteTime": {
     "end_time": "2024-03-20T20:32:34.508348Z",
     "start_time": "2024-03-20T20:32:34.506081Z"
    },
    "collapsed": false
   },
   "outputs": [
    {
     "name": "stdout",
     "output_type": "stream",
     "text": [
      "Meu nome é Conan\n"
     ]
    }
   ],
   "source": [
    "nome = 'Conan'\n",
    "\n",
    "def imprime_nome():\n",
    "    print('Meu nome é ' + nome)\n",
    "\n",
    "imprime_nome()"
   ]
  },
  {
   "cell_type": "markdown",
   "id": "f7f67c845a68ceaf",
   "metadata": {
    "collapsed": false
   },
   "source": [
    "Note que a função poderia usar o nome da variável e imprimir 'Meu nome é Conan'.\n",
    "\n",
    "#### Escopo local\n",
    "\n",
    "Quando você declara uma variável dentro de uma função, ela só existe dentro dessa função e não pode ser acessada de fora."
   ]
  },
  {
   "cell_type": "code",
   "execution_count": null,
   "id": "cc7899fa275c2140",
   "metadata": {
    "ExecuteTime": {
     "end_time": "2024-03-20T20:32:57.927763Z",
     "start_time": "2024-03-20T20:32:57.925687Z"
    },
    "collapsed": false
   },
   "outputs": [
    {
     "name": "stdout",
     "output_type": "stream",
     "text": [
      "Meu nome é Conan\n"
     ]
    }
   ],
   "source": [
    "def imprime_nome():\n",
    "    nome = \"Conan\"\n",
    "    print('Meu nome é ' + nome)\n",
    "\n",
    "imprime_nome()"
   ]
  },
  {
   "cell_type": "markdown",
   "id": "47ae6af343252b74",
   "metadata": {
    "collapsed": false
   },
   "source": [
    "Neste próximo exemplo, o nome da variável foi declarado dentro da função, portanto a saída é a mesma de antes.\n",
    "Mas isto vai lançar um erro:"
   ]
  },
  {
   "cell_type": "code",
   "execution_count": null,
   "id": "536e550abe69d11e",
   "metadata": {
    "collapsed": false
   },
   "outputs": [],
   "source": [
    "def imprime_nome():\n",
    "    nome2 = 'Conan'\n",
    "    print('Meu nome é ' + nome2)\n",
    "\n",
    "print(nome2)"
   ]
  },
  {
   "cell_type": "markdown",
   "id": "22bc0f4c8c9e3d1a",
   "metadata": {
    "collapsed": false
   },
   "source": [
    "Tentei imprimir o nome da variável de fora da função, mas o escopo da variável era local e não podia ser encontrado em um escopo global.\n",
    "\n",
    "Se você usar o mesmo nome para variáveis dentro e fora de uma função, a função usará a que está dentro de seu escopo.\n",
    "Então quando você chama imprime_nome(), o nome='Conan' é usado para imprimir a frase.\n",
    "Por outro lado, ao chamar print() fora do escopo da função, nome=\"Xena\" é usado por causa de seu escopo global."
   ]
  },
  {
   "cell_type": "code",
   "execution_count": null,
   "id": "772ffdba3732b1aa",
   "metadata": {
    "ExecuteTime": {
     "end_time": "2024-03-20T20:33:57.277874Z",
     "start_time": "2024-03-20T20:33:57.275654Z"
    },
    "collapsed": false
   },
   "outputs": [
    {
     "name": "stdout",
     "output_type": "stream",
     "text": [
      "Meu nome é Conan\n",
      "Xena\n"
     ]
    }
   ],
   "source": [
    "nome = \"Xena\"\n",
    "\n",
    "def imprime_nome():\n",
    "    nome = 'Conan'\n",
    "    print('Meu nome é ' + nome)\n",
    "\n",
    "imprime_nome()\n",
    "print(nome)"
   ]
  },
  {
   "cell_type": "markdown",
   "id": "151246ddd883832",
   "metadata": {
    "collapsed": false
   },
   "source": [
    "---\n",
    "## Módulos\n",
    "\n",
    "Após algum tempo, seu código começa a ficar mais complexo com muitas funções e variáveis.\n",
    "Para facilitar a organização do código, usamos os Módulos.\n",
    "\n",
    "Um Módulo bem projetado também tem a vantagem de ser reutilizável, assim você escreve o código uma vez e o reutiliza em todos os lugares.\n",
    "Você pode escrever um módulo com todas as operações matemáticas e outras pessoas podem usá-lo.\n",
    "E, se você precisar, pode usar os módulos de outra pessoa para simplificar seu código, acelerando seu projeto.\n",
    "Em outras linguagens de programação, estas também são chamadas de bibliotecas.\n",
    "\n",
    "\n",
    "#### Usando um módulo\n",
    "\n",
    "Para usar um módulo, usamos a palavra-chave importação.\n",
    "Como o nome implica, temos que dizer a nosso programa qual módulo importar.\n",
    "Depois disso, podemos usar qualquer função disponível nesse módulo.\n",
    "\n",
    "Vamos ver um exemplo usando o módulo de matemática.\n",
    "Primeiro, vamos ver como ter acesso a uma constante, o número do Euler."
   ]
  },
  {
   "cell_type": "code",
   "execution_count": null,
   "id": "d40b8f01a08c2dbf",
   "metadata": {
    "ExecuteTime": {
     "end_time": "2024-03-20T20:35:20.161011Z",
     "start_time": "2024-03-20T20:35:20.158817Z"
    },
    "collapsed": false
   },
   "outputs": [
    {
     "name": "stdout",
     "output_type": "stream",
     "text": [
      "2.718281828459045\n"
     ]
    }
   ],
   "source": [
    "import math\n",
    "\n",
    "print(math.e)"
   ]
  },
  {
   "cell_type": "markdown",
   "id": "ec5b973a0013d08f",
   "metadata": {
    "collapsed": false
   },
   "source": [
    "Neste segundo exemplo, vamos usar uma função que calcula a raiz quadrada de um número.\n",
    "Também é possível usar a palavra-chave para criar um pseudônimo."
   ]
  },
  {
   "cell_type": "code",
   "execution_count": null,
   "id": "92a54cf91c4731f4",
   "metadata": {
    "ExecuteTime": {
     "end_time": "2024-03-20T20:35:56.696179Z",
     "start_time": "2024-03-20T20:35:56.693978Z"
    },
    "collapsed": false
   },
   "outputs": [
    {
     "name": "stdout",
     "output_type": "stream",
     "text": [
      "11.0\n",
      "27.0\n"
     ]
    }
   ],
   "source": [
    "import math as m\n",
    "\n",
    "print(m.sqrt(121))\n",
    "print(m.sqrt(729))"
   ]
  },
  {
   "cell_type": "markdown",
   "id": "1e63994c79d13c06",
   "metadata": {
    "collapsed": false
   },
   "source": [
    "Finalmente, usando a palavra-chave from, podemos especificar exatamente o que importar em vez de todo o módulo e usar a função diretamente sem o nome do módulo.\n",
    "\n",
    "Este exemplo usa a função floor() que retorna o maior número inteiro menor ou igual a um determinado número."
   ]
  },
  {
   "cell_type": "code",
   "execution_count": null,
   "id": "ccf142239a2a6c24",
   "metadata": {
    "ExecuteTime": {
     "end_time": "2024-03-20T20:37:37.812725Z",
     "start_time": "2024-03-20T20:37:37.810881Z"
    },
    "collapsed": false
   },
   "outputs": [
    {
     "name": "stdout",
     "output_type": "stream",
     "text": [
      "9\n"
     ]
    }
   ],
   "source": [
    "from math import floor\n",
    "\n",
    "print(floor(9.8923))"
   ]
  },
  {
   "cell_type": "markdown",
   "id": "ed00e40ff1e40296",
   "metadata": {
    "collapsed": false
   },
   "source": [
    "Se você tem curiosidade sobre como criar um módulo, acesse: https://www.freecodecamp.org/news/the-python-guide-for-beginners/#creatingamodule"
   ]
  }
 ],
 "metadata": {
  "kernelspec": {
   "display_name": "Python 3",
   "language": "python",
   "name": "python3"
  },
  "language_info": {
   "codemirror_mode": {
    "name": "ipython",
    "version": 3
   },
   "file_extension": ".py",
   "mimetype": "text/x-python",
   "name": "python",
   "nbconvert_exporter": "python",
   "pygments_lexer": "ipython3",
   "version": "3.10.12"
  }
 },
 "nbformat": 4,
 "nbformat_minor": 5
}
