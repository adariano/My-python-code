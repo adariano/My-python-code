{
 "cells": [
  {
   "cell_type": "code",
   "execution_count": 8,
   "metadata": {},
   "outputs": [
    {
     "ename": "TypeError",
     "evalue": "'str' object cannot be interpreted as an integer",
     "output_type": "error",
     "traceback": [
      "\u001b[0;31m---------------------------------------------------------------------------\u001b[0m",
      "\u001b[0;31mTypeError\u001b[0m                                 Traceback (most recent call last)",
      "\u001b[1;32m/home/adriano/Documents/code/vscode_python/notas_projeto.ipynb Cell 1\u001b[0m line \u001b[0;36m5\n\u001b[1;32m      <a href='vscode-notebook-cell:/home/adriano/Documents/code/vscode_python/notas_projeto.ipynb#W1sZmlsZQ%3D%3D?line=1'>2</a>\u001b[0m informa \u001b[39m=\u001b[39m \u001b[39m'\u001b[39m\u001b[39m'\u001b[39m\n\u001b[1;32m      <a href='vscode-notebook-cell:/home/adriano/Documents/code/vscode_python/notas_projeto.ipynb#W1sZmlsZQ%3D%3D?line=2'>3</a>\u001b[0m numcheck \u001b[39m=\u001b[39m \u001b[39mTrue\u001b[39;00m\n\u001b[0;32m----> <a href='vscode-notebook-cell:/home/adriano/Documents/code/vscode_python/notas_projeto.ipynb#W1sZmlsZQ%3D%3D?line=4'>5</a>\u001b[0m \u001b[39mfor\u001b[39;00m i \u001b[39min\u001b[39;00m \u001b[39mrange\u001b[39;49m(f):\n\u001b[1;32m      <a href='vscode-notebook-cell:/home/adriano/Documents/code/vscode_python/notas_projeto.ipynb#W1sZmlsZQ%3D%3D?line=5'>6</a>\u001b[0m     \u001b[39mif\u001b[39;00m \u001b[39mord\u001b[39m(t[i]) \u001b[39m>\u001b[39m\u001b[39m=\u001b[39m \u001b[39m48\u001b[39m \u001b[39mand\u001b[39;00m \u001b[39mord\u001b[39m(t[i]) \u001b[39m<\u001b[39m\u001b[39m=\u001b[39m \u001b[39m57\u001b[39m:\n\u001b[1;32m      <a href='vscode-notebook-cell:/home/adriano/Documents/code/vscode_python/notas_projeto.ipynb#W1sZmlsZQ%3D%3D?line=6'>7</a>\u001b[0m         \u001b[39mwhile\u001b[39;00m \u001b[39mord\u001b[39m(t[i\u001b[39m-\u001b[39m\u001b[39m1\u001b[39m]) \u001b[39m!=\u001b[39m \u001b[39m32\u001b[39m:\n",
      "\u001b[0;31mTypeError\u001b[0m: 'str' object cannot be interpreted as an integer"
     ]
    }
   ],
   "source": []
  }
 ],
 "metadata": {
  "kernelspec": {
   "display_name": "Python 3",
   "language": "python",
   "name": "python3"
  },
  "language_info": {
   "codemirror_mode": {
    "name": "ipython",
    "version": 3
   },
   "file_extension": ".py",
   "mimetype": "text/x-python",
   "name": "python",
   "nbconvert_exporter": "python",
   "pygments_lexer": "ipython3",
   "version": "3.10.12"
  }
 },
 "nbformat": 4,
 "nbformat_minor": 2
}
